{
 "cells": [
  {
   "cell_type": "code",
   "execution_count": 1,
   "metadata": {
    "collapsed": true
   },
   "outputs": [],
   "source": [
    "import sys\n",
    "sys.path.insert(0, '/Users/annabroido/Dropbox/Research/LRTAnalysis/LRTAnalysis/analysis/')\n",
    "import pandas as pd\n",
    "import numpy as np\n",
    "import importfiles as im"
   ]
  },
  {
   "cell_type": "code",
   "execution_count": 2,
   "metadata": {
    "collapsed": true
   },
   "outputs": [],
   "source": [
    "df = pd.read_pickle('/Users/annabroido/Dropbox/Research/LRTAnalysis/LRTAnalysis/analysis/analysis.p')\n",
    "df = df.query(\"Domain != 'Economic'\")\n",
    "df = df.query(\"alpha != ''\")"
   ]
  },
  {
   "cell_type": "code",
   "execution_count": 3,
   "metadata": {
    "collapsed": true
   },
   "outputs": [],
   "source": [
    "hyps = pd.read_pickle('/Users/annabroido/Dropbox/Research/LRTAnalysis/LRTAnalysis/analysis/hyps.p')\n",
    "subhyps = hyps.query('median_alpha<2')\n",
    "len(subhyps)\n",
    "bioh = subhyps.query('Domain==\"Biological\"')\n",
    "infh  = subhyps.query('Domain==\"Informational\"')\n",
    "soch = (subhyps.query('Domain==\"Social\"'))\n",
    "techh = (subhyps.query('Domain==\"Technological\"'))\n",
    "transh = (subhyps.query('Domain==\"Transportation\"'))"
   ]
  },
  {
   "cell_type": "code",
   "execution_count": 70,
   "metadata": {},
   "outputs": [
    {
     "data": {
      "text/plain": [
       "3"
      ]
     },
     "execution_count": 70,
     "metadata": {},
     "output_type": "execute_result"
    }
   ],
   "source": [
    "len(transh)"
   ]
  },
  {
   "cell_type": "code",
   "execution_count": 18,
   "metadata": {},
   "outputs": [
    {
     "data": {
      "text/plain": [
       "432"
      ]
     },
     "execution_count": 18,
     "metadata": {},
     "output_type": "execute_result"
    }
   ],
   "source": [
    "subdf = df.query('alpha<2')\n",
    "len(subdf.query('Domain==\"Biological\"'))\n",
    "unique_datasets = np.unique(subdf.fp_gml)\n",
    "len(unique_datasets)"
   ]
  },
  {
   "cell_type": "code",
   "execution_count": 38,
   "metadata": {
    "collapsed": true
   },
   "outputs": [],
   "source": [
    "bio = subdf.query('Domain==\"Biological\"')\n",
    "inf  = subdf.query('Domain==\"Informational\"')\n",
    "soc = (subdf.query('Domain==\"Social\"'))\n",
    "tech = (subdf.query('Domain==\"Technological\"'))\n",
    "trans = (subdf.query('Domain==\"Transportation\"'))"
   ]
  },
  {
   "cell_type": "code",
   "execution_count": 73,
   "metadata": {},
   "outputs": [
    {
     "data": {
      "text/plain": [
       "array(['Connectome', 'Food_web', 'Protein_interactions', 'Tissue'], dtype=object)"
      ]
     },
     "execution_count": 73,
     "metadata": {},
     "output_type": "execute_result"
    }
   ],
   "source": [
    "np.unique(bioh.Subdomain)"
   ]
  },
  {
   "cell_type": "code",
   "execution_count": 74,
   "metadata": {},
   "outputs": [
    {
     "name": "stdout",
     "output_type": "stream",
     "text": [
      "3\n",
      "18\n",
      "3\n",
      "261\n"
     ]
    }
   ],
   "source": [
    "print(len(bioh.query('Subdomain==\"Connectome\"')))\n",
    "print(len(bioh.query('Subdomain==\"Food_web\"')))\n",
    "print(len(bioh.query('Subdomain==\"Protein_interactions\"')))\n",
    "print(len(bioh.query('Subdomain==\"Tissue\"')))"
   ]
  },
  {
   "cell_type": "code",
   "execution_count": 95,
   "metadata": {
    "collapsed": true
   },
   "outputs": [],
   "source": [
    "temp = bio.query('Subdomain==\"Tissue\"')\n",
    "dexp = temp.dexp\n",
    "dln = temp.dln\n",
    "dstrexp = temp.dstrexp\n",
    "dplwc = temp.dplwc"
   ]
  },
  {
   "cell_type": "code",
   "execution_count": 99,
   "metadata": {
    "collapsed": true
   },
   "outputs": [],
   "source": [
    "def getcount(decision, direction, df=temp):\n",
    "    directiondir = {'in':'-1', 'out':'1', 'unk':'0', 'fail':'2'}\n",
    "    query = '%s == %s' %(decision, directiondir[direction])\n",
    "    num = len(np.asarray(df.query(query)[decision], dtype=int))\n",
    "    return num"
   ]
  },
  {
   "cell_type": "code",
   "execution_count": 100,
   "metadata": {
    "collapsed": true
   },
   "outputs": [],
   "source": [
    "expin = getcount('dexp', 'in')\n",
    "expout = getcount('dexp', 'out')\n",
    "expunk = getcount('dexp', 'unk')\n",
    "expfail = getcount('dexp', 'fail')\n",
    "lnin = getcount('dln', 'in')\n",
    "lnout = getcount('dln', 'out')\n",
    "lnunk = getcount('dln', 'unk')\n",
    "lnfail = getcount('dln', 'fail')\n",
    "strexpin = getcount('dstrexp', 'in')\n",
    "strexpout = getcount('dstrexp', 'out')\n",
    "strexpunk = getcount('dstrexp', 'unk')\n",
    "strexpfail = getcount('dstrexp', 'fail')\n",
    "plwcin = getcount('dplwc', 'in')\n",
    "plwcout = getcount('dplwc', 'out')\n",
    "plwcunk = getcount('dplwc', 'unk')\n",
    "# order = \"LN\", \"Exp\", \"Str Exp\", \"PLwC\"\n",
    "incounts = [expin, lnin, strexpin, plwcin]\n",
    "outcounts = [expout, lnout, strexpout, plwcout]\n",
    "unkcounts = [expunk, lnunk, strexpunk, plwcunk]"
   ]
  },
  {
   "cell_type": "code",
   "execution_count": 108,
   "metadata": {},
   "outputs": [
    {
     "name": "stdout",
     "output_type": "stream",
     "text": [
      "[640, 678, 678, 678]\n",
      "[0, 0, 0, 0]\n",
      "[0, 0, 0, 0]\n",
      "38\n"
     ]
    }
   ],
   "source": [
    "print incounts\n",
    "print outcounts\n",
    "print unkcounts\n",
    "print expfail"
   ]
  },
  {
   "cell_type": "code",
   "execution_count": 131,
   "metadata": {},
   "outputs": [
    {
     "name": "stderr",
     "output_type": "stream",
     "text": [
      "/Library/Frameworks/Python.framework/Versions/2.7/lib/python2.7/site-packages/ipykernel_launcher.py:13: SettingWithCopyWarning: \n",
      "A value is trying to be set on a copy of a slice from a DataFrame.\n",
      "Try using .loc[row_indexer,col_indexer] = value instead\n",
      "\n",
      "See the caveats in the documentation: http://pandas.pydata.org/pandas-docs/stable/indexing.html#indexing-view-versus-copy\n",
      "  del sys.path[0]\n"
     ]
    }
   ],
   "source": [
    "dsfp = '/Users/annabroido/Dropbox/Research/LRTAnalysis/degreesequences/' \n",
    "analysis = df.query('n==\"\"')\n",
    "unique_datasets = np.unique(analysis.fp_gml)\n",
    "len(unique_datasets)\n",
    "dataset = unique_datasets[0]\n",
    "query = \"fp_gml == '%s'\" %dataset\n",
    "rows = df.query(query)\n",
    "name = rows.iloc[1].name\n",
    "fp = dsfp + name\n",
    "x = im.readdata(fp)\n",
    "n = len(x)\n",
    "ns = n*np.ones(len(rows))\n",
    "analysis[analysis['fp_gml']==dataset]['n']=ns\n",
    "\n"
   ]
  },
  {
   "cell_type": "code",
   "execution_count": 76,
   "metadata": {},
   "outputs": [
    {
     "name": "stdout",
     "output_type": "stream",
     "text": [
      "66.0\n",
      "0.121212121212\n",
      "0.242424242424\n",
      "0.530303030303\n",
      "0.560606060606\n",
      "0.378787878788\n"
     ]
    },
    {
     "data": {
      "text/plain": [
       "Index([u'Strongest', u'Strong', u'Weak', u'Weakest', u'Super_Weak', u'Domain',\n",
       "       u'Subdomain', u'median_alpha', u'n', u'median_ntail',\n",
       "       u'median_meandeg'],\n",
       "      dtype='object')"
      ]
     },
     "execution_count": 76,
     "metadata": {},
     "output_type": "execute_result"
    }
   ],
   "source": [
    "ppis = hyps.loc[df.iloc[np.where(['Protein' in name for name in df.index])].fp_gml]\n",
    "\n",
    "tot = float(len(ppis))\n",
    "strongest = len(ppis.query('Strongest==True'))\n",
    "strong = len(ppis.query('Strong==True'))\n",
    "weak = len(ppis.query('Weak==True'))\n",
    "weakest = len(ppis.query('Weakest==True'))\n",
    "superweak = len(ppis.query('Super_Weak==True'))\n",
    "fail = (len(ppis.query(\"Weakest==False\").query(\"Super_Weak==False\")))\n",
    "print(tot)\n",
    "print(strongest/tot)\n",
    "print(strong/tot)\n",
    "print(weak/tot)\n",
    "print(superweak/tot)\n",
    "print(fail/tot)\n",
    "ppis.columns"
   ]
  },
  {
   "cell_type": "code",
   "execution_count": 77,
   "metadata": {},
   "outputs": [
    {
     "data": {
      "text/plain": [
       "0.5151515151515151"
      ]
     },
     "execution_count": 77,
     "metadata": {},
     "output_type": "execute_result"
    }
   ],
   "source": [
    "# check how PLwC did for ppis:\n",
    "superweak = ppis.query('Super_Weak==True')\n",
    "ppis = df.iloc[np.where(['Protein' in name for name in df.index])]\n",
    "plwc = len(ppis.query('dplwc==-1'))\n",
    "plwc/float(len(ppis))"
   ]
  },
  {
   "cell_type": "code",
   "execution_count": 86,
   "metadata": {},
   "outputs": [
    {
     "data": {
      "text/plain": [
       "29"
      ]
     },
     "execution_count": 86,
     "metadata": {},
     "output_type": "execute_result"
    }
   ],
   "source": [
    "notsw = ppis[~ppis.fp_gml.isin(superweak.index)]\n",
    "len(notsw) - len(notsw.query('dplwc==-1'))\n",
    "#len(ppis[ppis.fp_gml.isin(superweak.index)])\n",
    "len(notsw.query('dplwc==-1'))"
   ]
  },
  {
   "cell_type": "code",
   "execution_count": 108,
   "metadata": {
    "collapsed": true
   },
   "outputs": [],
   "source": [
    "def countplwc(rows):\n",
    "    nrows = float(len(rows))\n",
    "    count = len(rows.query('dplwc == -1'))\n",
    "    return count/nrows"
   ]
  },
  {
   "cell_type": "code",
   "execution_count": 123,
   "metadata": {
    "collapsed": true
   },
   "outputs": [],
   "source": [
    "notsfhyps = hyps.query('Super_Weak==False & Weakest == False')\n",
    "notsfdf = df[df.fp_gml.isin(notsfhyps.index)]\n",
    "plwcdf = notsfdf.query('dplwc==-1')\n",
    "unique_datasets = np.unique(plwcdf.fp_gml)\n",
    "plwchyps = pd.DataFrame(columns=['Proportion'], index=unique_datasets)\n",
    "for dataset in unique_datasets:\n",
    "    query = \"fp_gml == '%s'\" %dataset\n",
    "    rows = df.query(query)\n",
    "    plwchyps.loc[dataset]['Proportion'] = countplwc(rows)"
   ]
  },
  {
   "cell_type": "code",
   "execution_count": 131,
   "metadata": {},
   "outputs": [
    {
     "data": {
      "text/plain": [
       "0.9909069155300313"
      ]
     },
     "execution_count": 131,
     "metadata": {},
     "output_type": "execute_result"
    }
   ],
   "source": [
    "np.sum(plwchyps.Proportion)/927\n",
    "np.sum(plwchyps.Proportion)/398"
   ]
  },
  {
   "cell_type": "code",
   "execution_count": 138,
   "metadata": {},
   "outputs": [
    {
     "name": "stdout",
     "output_type": "stream",
     "text": [
      "Strongest = 0.0427807486631\n",
      "Strong = 0.0641711229947\n",
      "Weak = 0.566844919786\n",
      "Weakest = 0.668449197861\n",
      "Super Weak = 0.663101604278\n",
      "Number of Datsets = 187\n"
     ]
    }
   ],
   "source": [
    "simpledf = df.query('Weighted==False & Directed == False & Bipartite == False & Multigraph == False & Multiplex == False')\n",
    "simplehyps = hyps.loc[np.unique(simpledf.fp_gml)]\n",
    "n = float(len(simplehyps))\n",
    "Strongest = np.sum(simplehyps.Strongest)\n",
    "Strong = np.sum(simplehyps.Strong)\n",
    "Weak = np.sum(simplehyps.Weak)\n",
    "Weakest = np.sum(simplehyps.Weakest)\n",
    "Super_Weak = np.sum(simplehyps.Super_Weak)\n",
    "print \"Strongest = %s\" %(Strongest/n)\n",
    "print \"Strong = %s\" %(Strong/n)\n",
    "print \"Weak = %s\" %(Weak/n)\n",
    "print \"Weakest = %s\" %(Weakest/n)\n",
    "print \"Super Weak = %s\" %(Super_Weak/n)\n",
    "print \"Number of Datsets = %s\" %int(n)\n",
    "\n"
   ]
  },
  {
   "cell_type": "code",
   "execution_count": 149,
   "metadata": {},
   "outputs": [
    {
     "data": {
      "image/png": "[encoded data removed]",
      "text/plain": [
       "<matplotlib.figure.Figure at 0x107039210>"
      ]
     },
     "metadata": {},
     "output_type": "display_data"
    }
   ],
   "source": [
    "# plot it\n",
    "import matplotlib.pyplot as plt\n",
    "\n",
    "ALMOST_BLACK = '0.125'\n",
    "DARK = '0.4'\n",
    "GRAY_COLOR = '0.5'\n",
    "ALL_COLOR = (0.156, 0.254, 0.466)\n",
    "SUPERWEAK_COLOR = (0.647, 0.772, 0.972)\n",
    "WEAKEST_COLOR = (0.419, 0.627, 0.960)\n",
    "WEAK_COLOR = (0.258, 0.525, 0.85)\n",
    "STRONG_COLOR = (0.223, 0.368, 0.674)\n",
    "STRONGEST_COLOR = (0.156, 0.254, 0.466)\n",
    "LABEL_SIZE = 12\n",
    "TICK_SIZE = 12\n",
    "\n",
    "\n",
    "fig, ax = plt.subplots(1,1,figsize=(6,4))\n",
    "\n",
    "df = simplehyps\n",
    "tot = float(len(df))\n",
    "strongest = len(df.query('Strongest==True'))\n",
    "strong = len(df.query('Strong==True'))\n",
    "weak = len(df.query('Weak==True'))\n",
    "weakest = len(df.query('Weakest==True'))\n",
    "superweak = len(df.query('Super_Weak==True'))\n",
    "fail = (len(df.query(\"Weakest==False\").query(\"Super_Weak==False\")))\n",
    "\n",
    "width = 4\n",
    "totwid = 4\n",
    "xlocs = np.arange(0,4*totwid,totwid)\n",
    "xlocs = np.append(xlocs, xlocs[-1]+totwid+width/2.)\n",
    "xlocs = np.append(xlocs, xlocs[-1]+totwid+width/2.)\n",
    "counts = [strongest, strong, weak, weakest, superweak, fail]\n",
    "barheights = [count/tot for count in counts]\n",
    "colors=[STRONGEST_COLOR, STRONG_COLOR, WEAK_COLOR, WEAKEST_COLOR, SUPERWEAK_COLOR, GRAY_COLOR]\n",
    "ylabels = ['S1', 'S2', 'W1', 'W2', 'SW', 'Not SF' ]\n",
    "yticks = xlocs+width/2.\n",
    "for i in range(6):\n",
    "    ax.barh(bottom=xlocs[i],width=barheights[i], height=width, color = colors[i],edgecolor='w')\n",
    "    ax.text(barheights[i]+0.02,yticks[i],'%d (%.2f)' %(int(counts[i]) ,barheights[i]) , fontsize=LABEL_SIZE, ha='left', va='center')\n",
    "ax.set_yticks(yticks)\n",
    "ax.set_yticklabels(ylabels)\n",
    "#     ax.set_yticklabels([])\n",
    "ax.set_xlim(0,1.0)\n",
    "ax.set_xticks([0,0.2,0.4,0.6,0.8,1.0])\n",
    "\n",
    "ax.axhline((xlocs[3]+width + xlocs[4])/2., color=ALMOST_BLACK, linewidth=2)\n",
    "ax.axhline((xlocs[4]+width + xlocs[5])/2., color=ALMOST_BLACK, linewidth=2)\n",
    "ax.xaxis.set_ticks_position('bottom')\n",
    "ax.yaxis.set_ticks_position('left')\n",
    "ax.spines[\"right\"].set_visible(False)\n",
    "ax.spines[\"top\"].set_visible(False)\n",
    "ax.tick_params(axis='both', which='major', labelsize=TICK_SIZE)\n",
    "plt.show()"
   ]
  },
  {
   "cell_type": "code",
   "execution_count": 50,
   "metadata": {},
   "outputs": [],
   "source": [
    "df = hyps.query(\"Weakest==False\").query(\"Super_Weak==False\")\n",
    "subdoms = np.unique(df.Subdomain.values)\n",
    "subcounts = np.zeros_like(subdoms, dtype=int)\n",
    "for i, subdom in enumerate(subdoms):\n",
    "    subcounts[i] = len(np.where(df.Subdomain == subdom)[0])"
   ]
  },
  {
   "cell_type": "code",
   "execution_count": 52,
   "metadata": {},
   "outputs": [
    {
     "data": {
      "text/html": [
       "<div>\n",
       "<table border=\"1\" class=\"dataframe\">\n",
       "  <thead>\n",
       "    <tr style=\"text-align: right;\">\n",
       "      <th></th>\n",
       "      <th>Strongest</th>\n",
       "      <th>Strong</th>\n",
       "      <th>Weak</th>\n",
       "      <th>Weakest</th>\n",
       "      <th>Super_Weak</th>\n",
       "      <th>Domain</th>\n",
       "      <th>Subdomain</th>\n",
       "      <th>median_alpha</th>\n",
       "      <th>n</th>\n",
       "      <th>median_ntail</th>\n",
       "      <th>median_meandeg</th>\n",
       "    </tr>\n",
       "  </thead>\n",
       "  <tbody>\n",
       "    <tr>\n",
       "      <th>/Volumes/Durodon/gmls/Biological/Metabolic/n3/Metabolic_networks_from_KEGG_2006_mpu_Biological_Metabolic_n3.gml</th>\n",
       "      <td>True</td>\n",
       "      <td>True</td>\n",
       "      <td>True</td>\n",
       "      <td>True</td>\n",
       "      <td>True</td>\n",
       "      <td>Biological</td>\n",
       "      <td>Metabolic</td>\n",
       "      <td>2.5</td>\n",
       "      <td>385</td>\n",
       "      <td>218.5</td>\n",
       "      <td>4.82233</td>\n",
       "    </tr>\n",
       "    <tr>\n",
       "      <th>/Volumes/Durodon/gmls/Biological/Metabolic/n3/Metabolic_networks_from_KEGG_2006_uur_Biological_Metabolic_n3.gml</th>\n",
       "      <td>True</td>\n",
       "      <td>True</td>\n",
       "      <td>True</td>\n",
       "      <td>True</td>\n",
       "      <td>True</td>\n",
       "      <td>Biological</td>\n",
       "      <td>Metabolic</td>\n",
       "      <td>2.56</td>\n",
       "      <td>321</td>\n",
       "      <td>180</td>\n",
       "      <td>4.64748</td>\n",
       "    </tr>\n",
       "    <tr>\n",
       "      <th>/Volumes/Durodon/gmls/Biological/Metabolic/n4/Metabolic_networks_from_KEGG_2006_aae_Biological_Metabolic_n4.gml</th>\n",
       "      <td>True</td>\n",
       "      <td>True</td>\n",
       "      <td>True</td>\n",
       "      <td>True</td>\n",
       "      <td>True</td>\n",
       "      <td>Biological</td>\n",
       "      <td>Metabolic</td>\n",
       "      <td>2.32</td>\n",
       "      <td>926</td>\n",
       "      <td>103</td>\n",
       "      <td>5.12961</td>\n",
       "    </tr>\n",
       "    <tr>\n",
       "      <th>/Volumes/Durodon/gmls/Biological/Metabolic/n4/Metabolic_networks_from_KEGG_2006_blo_Biological_Metabolic_n4.gml</th>\n",
       "      <td>True</td>\n",
       "      <td>True</td>\n",
       "      <td>True</td>\n",
       "      <td>True</td>\n",
       "      <td>True</td>\n",
       "      <td>Biological</td>\n",
       "      <td>Metabolic</td>\n",
       "      <td>2.52</td>\n",
       "      <td>854</td>\n",
       "      <td>297</td>\n",
       "      <td>5.0832</td>\n",
       "    </tr>\n",
       "    <tr>\n",
       "      <th>/Volumes/Durodon/gmls/Biological/Metabolic/n4/Metabolic_networks_from_KEGG_2006_cmu_Biological_Metabolic_n4.gml</th>\n",
       "      <td>True</td>\n",
       "      <td>True</td>\n",
       "      <td>True</td>\n",
       "      <td>True</td>\n",
       "      <td>True</td>\n",
       "      <td>Biological</td>\n",
       "      <td>Metabolic</td>\n",
       "      <td>2.41</td>\n",
       "      <td>650</td>\n",
       "      <td>90</td>\n",
       "      <td>4.64294</td>\n",
       "    </tr>\n",
       "    <tr>\n",
       "      <th>/Volumes/Durodon/gmls/Biological/Metabolic/n4/Metabolic_networks_from_KEGG_2006_cpa_Biological_Metabolic_n4.gml</th>\n",
       "      <td>True</td>\n",
       "      <td>True</td>\n",
       "      <td>True</td>\n",
       "      <td>True</td>\n",
       "      <td>True</td>\n",
       "      <td>Biological</td>\n",
       "      <td>Metabolic</td>\n",
       "      <td>2.4</td>\n",
       "      <td>659</td>\n",
       "      <td>97</td>\n",
       "      <td>4.72865</td>\n",
       "    </tr>\n",
       "    <tr>\n",
       "      <th>/Volumes/Durodon/gmls/Biological/Metabolic/n4/Metabolic_networks_from_KEGG_2006_cpj_Biological_Metabolic_n4.gml</th>\n",
       "      <td>True</td>\n",
       "      <td>True</td>\n",
       "      <td>True</td>\n",
       "      <td>True</td>\n",
       "      <td>True</td>\n",
       "      <td>Biological</td>\n",
       "      <td>Metabolic</td>\n",
       "      <td>2.41</td>\n",
       "      <td>660</td>\n",
       "      <td>98</td>\n",
       "      <td>4.74011</td>\n",
       "    </tr>\n",
       "    <tr>\n",
       "      <th>/Volumes/Durodon/gmls/Biological/Metabolic/n4/Metabolic_networks_from_KEGG_2006_cpn_Biological_Metabolic_n4.gml</th>\n",
       "      <td>True</td>\n",
       "      <td>True</td>\n",
       "      <td>True</td>\n",
       "      <td>True</td>\n",
       "      <td>True</td>\n",
       "      <td>Biological</td>\n",
       "      <td>Metabolic</td>\n",
       "      <td>2.41</td>\n",
       "      <td>660</td>\n",
       "      <td>98</td>\n",
       "      <td>4.73696</td>\n",
       "    </tr>\n",
       "    <tr>\n",
       "      <th>/Volumes/Durodon/gmls/Biological/Metabolic/n4/Metabolic_networks_from_KEGG_2006_cte_Biological_Metabolic_n4.gml</th>\n",
       "      <td>True</td>\n",
       "      <td>True</td>\n",
       "      <td>True</td>\n",
       "      <td>True</td>\n",
       "      <td>True</td>\n",
       "      <td>Biological</td>\n",
       "      <td>Metabolic</td>\n",
       "      <td>2.15</td>\n",
       "      <td>1000</td>\n",
       "      <td>70</td>\n",
       "      <td>5.31872</td>\n",
       "    </tr>\n",
       "    <tr>\n",
       "      <th>/Volumes/Durodon/gmls/Biological/Metabolic/n4/Metabolic_networks_from_KEGG_2006_hal_Biological_Metabolic_n4.gml</th>\n",
       "      <td>True</td>\n",
       "      <td>True</td>\n",
       "      <td>True</td>\n",
       "      <td>True</td>\n",
       "      <td>True</td>\n",
       "      <td>Biological</td>\n",
       "      <td>Metabolic</td>\n",
       "      <td>2.49</td>\n",
       "      <td>808</td>\n",
       "      <td>432</td>\n",
       "      <td>5.01907</td>\n",
       "    </tr>\n",
       "    <tr>\n",
       "      <th>/Volumes/Durodon/gmls/Biological/Metabolic/n4/Metabolic_networks_from_KEGG_2006_lil_Biological_Metabolic_n4.gml</th>\n",
       "      <td>True</td>\n",
       "      <td>True</td>\n",
       "      <td>True</td>\n",
       "      <td>True</td>\n",
       "      <td>True</td>\n",
       "      <td>Biological</td>\n",
       "      <td>Metabolic</td>\n",
       "      <td>2.28</td>\n",
       "      <td>1234</td>\n",
       "      <td>111</td>\n",
       "      <td>5.08999</td>\n",
       "    </tr>\n",
       "    <tr>\n",
       "      <th>/Volumes/Durodon/gmls/Biological/Metabolic/n4/Metabolic_networks_from_KEGG_2006_lin_Biological_Metabolic_n4.gml</th>\n",
       "      <td>True</td>\n",
       "      <td>True</td>\n",
       "      <td>True</td>\n",
       "      <td>True</td>\n",
       "      <td>True</td>\n",
       "      <td>Biological</td>\n",
       "      <td>Metabolic</td>\n",
       "      <td>2.55</td>\n",
       "      <td>980</td>\n",
       "      <td>402</td>\n",
       "      <td>5.46228</td>\n",
       "    </tr>\n",
       "    <tr>\n",
       "      <th>/Volumes/Durodon/gmls/Biological/Metabolic/n4/Metabolic_networks_from_KEGG_2006_lla_Biological_Metabolic_n4.gml</th>\n",
       "      <td>True</td>\n",
       "      <td>True</td>\n",
       "      <td>True</td>\n",
       "      <td>True</td>\n",
       "      <td>True</td>\n",
       "      <td>Biological</td>\n",
       "      <td>Metabolic</td>\n",
       "      <td>2.54</td>\n",
       "      <td>966</td>\n",
       "      <td>362</td>\n",
       "      <td>5.18569</td>\n",
       "    </tr>\n",
       "    <tr>\n",
       "      <th>/Volumes/Durodon/gmls/Biological/Metabolic/n4/Metabolic_networks_from_KEGG_2006_mle_Biological_Metabolic_n4.gml</th>\n",
       "      <td>True</td>\n",
       "      <td>True</td>\n",
       "      <td>True</td>\n",
       "      <td>True</td>\n",
       "      <td>True</td>\n",
       "      <td>Biological</td>\n",
       "      <td>Metabolic</td>\n",
       "      <td>2.2</td>\n",
       "      <td>1008</td>\n",
       "      <td>76</td>\n",
       "      <td>5.2027</td>\n",
       "    </tr>\n",
       "    <tr>\n",
       "      <th>/Volumes/Durodon/gmls/Biological/Metabolic/n4/Metabolic_networks_from_KEGG_2006_mpe_Biological_Metabolic_n4.gml</th>\n",
       "      <td>True</td>\n",
       "      <td>True</td>\n",
       "      <td>True</td>\n",
       "      <td>True</td>\n",
       "      <td>True</td>\n",
       "      <td>Biological</td>\n",
       "      <td>Metabolic</td>\n",
       "      <td>2.41</td>\n",
       "      <td>579</td>\n",
       "      <td>161</td>\n",
       "      <td>4.63024</td>\n",
       "    </tr>\n",
       "    <tr>\n",
       "      <th>/Volumes/Durodon/gmls/Biological/Metabolic/n4/Metabolic_networks_from_KEGG_2006_nma_Biological_Metabolic_n4.gml</th>\n",
       "      <td>True</td>\n",
       "      <td>True</td>\n",
       "      <td>True</td>\n",
       "      <td>True</td>\n",
       "      <td>True</td>\n",
       "      <td>Biological</td>\n",
       "      <td>Metabolic</td>\n",
       "      <td>2.3</td>\n",
       "      <td>1017</td>\n",
       "      <td>115</td>\n",
       "      <td>5.20422</td>\n",
       "    </tr>\n",
       "    <tr>\n",
       "      <th>/Volumes/Durodon/gmls/Biological/Metabolic/n4/Metabolic_networks_from_KEGG_2006_nme_Biological_Metabolic_n4.gml</th>\n",
       "      <td>True</td>\n",
       "      <td>True</td>\n",
       "      <td>True</td>\n",
       "      <td>True</td>\n",
       "      <td>True</td>\n",
       "      <td>Biological</td>\n",
       "      <td>Metabolic</td>\n",
       "      <td>2.29</td>\n",
       "      <td>1020</td>\n",
       "      <td>114</td>\n",
       "      <td>5.18613</td>\n",
       "    </tr>\n",
       "    <tr>\n",
       "      <th>/Volumes/Durodon/gmls/Biological/Metabolic/n4/Metabolic_networks_from_KEGG_2006_smu_Biological_Metabolic_n4.gml</th>\n",
       "      <td>True</td>\n",
       "      <td>True</td>\n",
       "      <td>True</td>\n",
       "      <td>True</td>\n",
       "      <td>True</td>\n",
       "      <td>Biological</td>\n",
       "      <td>Metabolic</td>\n",
       "      <td>2.51</td>\n",
       "      <td>911</td>\n",
       "      <td>330</td>\n",
       "      <td>5.09865</td>\n",
       "    </tr>\n",
       "    <tr>\n",
       "      <th>/Volumes/Durodon/gmls/Biological/Metabolic/n4/Metabolic_networks_from_KEGG_2006_spn_Biological_Metabolic_n4.gml</th>\n",
       "      <td>True</td>\n",
       "      <td>True</td>\n",
       "      <td>True</td>\n",
       "      <td>True</td>\n",
       "      <td>True</td>\n",
       "      <td>Biological</td>\n",
       "      <td>Metabolic</td>\n",
       "      <td>2.51</td>\n",
       "      <td>892</td>\n",
       "      <td>325</td>\n",
       "      <td>5.10899</td>\n",
       "    </tr>\n",
       "    <tr>\n",
       "      <th>/Volumes/Durodon/gmls/Biological/Metabolic/n4/Metabolic_networks_from_KEGG_2006_spr_Biological_Metabolic_n4.gml</th>\n",
       "      <td>True</td>\n",
       "      <td>True</td>\n",
       "      <td>True</td>\n",
       "      <td>True</td>\n",
       "      <td>True</td>\n",
       "      <td>Biological</td>\n",
       "      <td>Metabolic</td>\n",
       "      <td>2.5</td>\n",
       "      <td>910</td>\n",
       "      <td>330</td>\n",
       "      <td>5.12709</td>\n",
       "    </tr>\n",
       "    <tr>\n",
       "      <th>/Volumes/Durodon/gmls/Biological/Metabolic/n4/Metabolic_networks_from_KEGG_2006_xfa_Biological_Metabolic_n4.gml</th>\n",
       "      <td>True</td>\n",
       "      <td>True</td>\n",
       "      <td>True</td>\n",
       "      <td>True</td>\n",
       "      <td>True</td>\n",
       "      <td>Biological</td>\n",
       "      <td>Metabolic</td>\n",
       "      <td>2.24</td>\n",
       "      <td>1092</td>\n",
       "      <td>94</td>\n",
       "      <td>5.19028</td>\n",
       "    </tr>\n",
       "  </tbody>\n",
       "</table>\n",
       "</div>"
      ],
      "text/plain": [
       "                                                   Strongest Strong  Weak  \\\n",
       "/Volumes/Durodon/gmls/Biological/Metabolic/n3/M...      True   True  True   \n",
       "/Volumes/Durodon/gmls/Biological/Metabolic/n3/M...      True   True  True   \n",
       "/Volumes/Durodon/gmls/Biological/Metabolic/n4/M...      True   True  True   \n",
       "/Volumes/Durodon/gmls/Biological/Metabolic/n4/M...      True   True  True   \n",
       "/Volumes/Durodon/gmls/Biological/Metabolic/n4/M...      True   True  True   \n",
       "/Volumes/Durodon/gmls/Biological/Metabolic/n4/M...      True   True  True   \n",
       "/Volumes/Durodon/gmls/Biological/Metabolic/n4/M...      True   True  True   \n",
       "/Volumes/Durodon/gmls/Biological/Metabolic/n4/M...      True   True  True   \n",
       "/Volumes/Durodon/gmls/Biological/Metabolic/n4/M...      True   True  True   \n",
       "/Volumes/Durodon/gmls/Biological/Metabolic/n4/M...      True   True  True   \n",
       "/Volumes/Durodon/gmls/Biological/Metabolic/n4/M...      True   True  True   \n",
       "/Volumes/Durodon/gmls/Biological/Metabolic/n4/M...      True   True  True   \n",
       "/Volumes/Durodon/gmls/Biological/Metabolic/n4/M...      True   True  True   \n",
       "/Volumes/Durodon/gmls/Biological/Metabolic/n4/M...      True   True  True   \n",
       "/Volumes/Durodon/gmls/Biological/Metabolic/n4/M...      True   True  True   \n",
       "/Volumes/Durodon/gmls/Biological/Metabolic/n4/M...      True   True  True   \n",
       "/Volumes/Durodon/gmls/Biological/Metabolic/n4/M...      True   True  True   \n",
       "/Volumes/Durodon/gmls/Biological/Metabolic/n4/M...      True   True  True   \n",
       "/Volumes/Durodon/gmls/Biological/Metabolic/n4/M...      True   True  True   \n",
       "/Volumes/Durodon/gmls/Biological/Metabolic/n4/M...      True   True  True   \n",
       "/Volumes/Durodon/gmls/Biological/Metabolic/n4/M...      True   True  True   \n",
       "\n",
       "                                                   Weakest Super_Weak  \\\n",
       "/Volumes/Durodon/gmls/Biological/Metabolic/n3/M...    True       True   \n",
       "/Volumes/Durodon/gmls/Biological/Metabolic/n3/M...    True       True   \n",
       "/Volumes/Durodon/gmls/Biological/Metabolic/n4/M...    True       True   \n",
       "/Volumes/Durodon/gmls/Biological/Metabolic/n4/M...    True       True   \n",
       "/Volumes/Durodon/gmls/Biological/Metabolic/n4/M...    True       True   \n",
       "/Volumes/Durodon/gmls/Biological/Metabolic/n4/M...    True       True   \n",
       "/Volumes/Durodon/gmls/Biological/Metabolic/n4/M...    True       True   \n",
       "/Volumes/Durodon/gmls/Biological/Metabolic/n4/M...    True       True   \n",
       "/Volumes/Durodon/gmls/Biological/Metabolic/n4/M...    True       True   \n",
       "/Volumes/Durodon/gmls/Biological/Metabolic/n4/M...    True       True   \n",
       "/Volumes/Durodon/gmls/Biological/Metabolic/n4/M...    True       True   \n",
       "/Volumes/Durodon/gmls/Biological/Metabolic/n4/M...    True       True   \n",
       "/Volumes/Durodon/gmls/Biological/Metabolic/n4/M...    True       True   \n",
       "/Volumes/Durodon/gmls/Biological/Metabolic/n4/M...    True       True   \n",
       "/Volumes/Durodon/gmls/Biological/Metabolic/n4/M...    True       True   \n",
       "/Volumes/Durodon/gmls/Biological/Metabolic/n4/M...    True       True   \n",
       "/Volumes/Durodon/gmls/Biological/Metabolic/n4/M...    True       True   \n",
       "/Volumes/Durodon/gmls/Biological/Metabolic/n4/M...    True       True   \n",
       "/Volumes/Durodon/gmls/Biological/Metabolic/n4/M...    True       True   \n",
       "/Volumes/Durodon/gmls/Biological/Metabolic/n4/M...    True       True   \n",
       "/Volumes/Durodon/gmls/Biological/Metabolic/n4/M...    True       True   \n",
       "\n",
       "                                                        Domain  Subdomain  \\\n",
       "/Volumes/Durodon/gmls/Biological/Metabolic/n3/M...  Biological  Metabolic   \n",
       "/Volumes/Durodon/gmls/Biological/Metabolic/n3/M...  Biological  Metabolic   \n",
       "/Volumes/Durodon/gmls/Biological/Metabolic/n4/M...  Biological  Metabolic   \n",
       "/Volumes/Durodon/gmls/Biological/Metabolic/n4/M...  Biological  Metabolic   \n",
       "/Volumes/Durodon/gmls/Biological/Metabolic/n4/M...  Biological  Metabolic   \n",
       "/Volumes/Durodon/gmls/Biological/Metabolic/n4/M...  Biological  Metabolic   \n",
       "/Volumes/Durodon/gmls/Biological/Metabolic/n4/M...  Biological  Metabolic   \n",
       "/Volumes/Durodon/gmls/Biological/Metabolic/n4/M...  Biological  Metabolic   \n",
       "/Volumes/Durodon/gmls/Biological/Metabolic/n4/M...  Biological  Metabolic   \n",
       "/Volumes/Durodon/gmls/Biological/Metabolic/n4/M...  Biological  Metabolic   \n",
       "/Volumes/Durodon/gmls/Biological/Metabolic/n4/M...  Biological  Metabolic   \n",
       "/Volumes/Durodon/gmls/Biological/Metabolic/n4/M...  Biological  Metabolic   \n",
       "/Volumes/Durodon/gmls/Biological/Metabolic/n4/M...  Biological  Metabolic   \n",
       "/Volumes/Durodon/gmls/Biological/Metabolic/n4/M...  Biological  Metabolic   \n",
       "/Volumes/Durodon/gmls/Biological/Metabolic/n4/M...  Biological  Metabolic   \n",
       "/Volumes/Durodon/gmls/Biological/Metabolic/n4/M...  Biological  Metabolic   \n",
       "/Volumes/Durodon/gmls/Biological/Metabolic/n4/M...  Biological  Metabolic   \n",
       "/Volumes/Durodon/gmls/Biological/Metabolic/n4/M...  Biological  Metabolic   \n",
       "/Volumes/Durodon/gmls/Biological/Metabolic/n4/M...  Biological  Metabolic   \n",
       "/Volumes/Durodon/gmls/Biological/Metabolic/n4/M...  Biological  Metabolic   \n",
       "/Volumes/Durodon/gmls/Biological/Metabolic/n4/M...  Biological  Metabolic   \n",
       "\n",
       "                                                   median_alpha     n  \\\n",
       "/Volumes/Durodon/gmls/Biological/Metabolic/n3/M...          2.5   385   \n",
       "/Volumes/Durodon/gmls/Biological/Metabolic/n3/M...         2.56   321   \n",
       "/Volumes/Durodon/gmls/Biological/Metabolic/n4/M...         2.32   926   \n",
       "/Volumes/Durodon/gmls/Biological/Metabolic/n4/M...         2.52   854   \n",
       "/Volumes/Durodon/gmls/Biological/Metabolic/n4/M...         2.41   650   \n",
       "/Volumes/Durodon/gmls/Biological/Metabolic/n4/M...          2.4   659   \n",
       "/Volumes/Durodon/gmls/Biological/Metabolic/n4/M...         2.41   660   \n",
       "/Volumes/Durodon/gmls/Biological/Metabolic/n4/M...         2.41   660   \n",
       "/Volumes/Durodon/gmls/Biological/Metabolic/n4/M...         2.15  1000   \n",
       "/Volumes/Durodon/gmls/Biological/Metabolic/n4/M...         2.49   808   \n",
       "/Volumes/Durodon/gmls/Biological/Metabolic/n4/M...         2.28  1234   \n",
       "/Volumes/Durodon/gmls/Biological/Metabolic/n4/M...         2.55   980   \n",
       "/Volumes/Durodon/gmls/Biological/Metabolic/n4/M...         2.54   966   \n",
       "/Volumes/Durodon/gmls/Biological/Metabolic/n4/M...          2.2  1008   \n",
       "/Volumes/Durodon/gmls/Biological/Metabolic/n4/M...         2.41   579   \n",
       "/Volumes/Durodon/gmls/Biological/Metabolic/n4/M...          2.3  1017   \n",
       "/Volumes/Durodon/gmls/Biological/Metabolic/n4/M...         2.29  1020   \n",
       "/Volumes/Durodon/gmls/Biological/Metabolic/n4/M...         2.51   911   \n",
       "/Volumes/Durodon/gmls/Biological/Metabolic/n4/M...         2.51   892   \n",
       "/Volumes/Durodon/gmls/Biological/Metabolic/n4/M...          2.5   910   \n",
       "/Volumes/Durodon/gmls/Biological/Metabolic/n4/M...         2.24  1092   \n",
       "\n",
       "                                                   median_ntail median_meandeg  \n",
       "/Volumes/Durodon/gmls/Biological/Metabolic/n3/M...        218.5        4.82233  \n",
       "/Volumes/Durodon/gmls/Biological/Metabolic/n3/M...          180        4.64748  \n",
       "/Volumes/Durodon/gmls/Biological/Metabolic/n4/M...          103        5.12961  \n",
       "/Volumes/Durodon/gmls/Biological/Metabolic/n4/M...          297         5.0832  \n",
       "/Volumes/Durodon/gmls/Biological/Metabolic/n4/M...           90        4.64294  \n",
       "/Volumes/Durodon/gmls/Biological/Metabolic/n4/M...           97        4.72865  \n",
       "/Volumes/Durodon/gmls/Biological/Metabolic/n4/M...           98        4.74011  \n",
       "/Volumes/Durodon/gmls/Biological/Metabolic/n4/M...           98        4.73696  \n",
       "/Volumes/Durodon/gmls/Biological/Metabolic/n4/M...           70        5.31872  \n",
       "/Volumes/Durodon/gmls/Biological/Metabolic/n4/M...          432        5.01907  \n",
       "/Volumes/Durodon/gmls/Biological/Metabolic/n4/M...          111        5.08999  \n",
       "/Volumes/Durodon/gmls/Biological/Metabolic/n4/M...          402        5.46228  \n",
       "/Volumes/Durodon/gmls/Biological/Metabolic/n4/M...          362        5.18569  \n",
       "/Volumes/Durodon/gmls/Biological/Metabolic/n4/M...           76         5.2027  \n",
       "/Volumes/Durodon/gmls/Biological/Metabolic/n4/M...          161        4.63024  \n",
       "/Volumes/Durodon/gmls/Biological/Metabolic/n4/M...          115        5.20422  \n",
       "/Volumes/Durodon/gmls/Biological/Metabolic/n4/M...          114        5.18613  \n",
       "/Volumes/Durodon/gmls/Biological/Metabolic/n4/M...          330        5.09865  \n",
       "/Volumes/Durodon/gmls/Biological/Metabolic/n4/M...          325        5.10899  \n",
       "/Volumes/Durodon/gmls/Biological/Metabolic/n4/M...          330        5.12709  \n",
       "/Volumes/Durodon/gmls/Biological/Metabolic/n4/M...           94        5.19028  "
      ]
     },
     "execution_count": 52,
     "metadata": {},
     "output_type": "execute_result"
    }
   ],
   "source": [
    "df.query('Subdomain==\"Metabolic\"')"
   ]
  },
  {
   "cell_type": "code",
   "execution_count": 51,
   "metadata": {},
   "outputs": [
    {
     "data": {
      "text/html": [
       "<div>\n",
       "<table border=\"1\" class=\"dataframe\">\n",
       "  <thead>\n",
       "    <tr style=\"text-align: right;\">\n",
       "      <th></th>\n",
       "      <th>0</th>\n",
       "    </tr>\n",
       "  </thead>\n",
       "  <tbody>\n",
       "    <tr>\n",
       "      <th>Communication</th>\n",
       "      <td>2</td>\n",
       "    </tr>\n",
       "    <tr>\n",
       "      <th>Food_web</th>\n",
       "      <td>4</td>\n",
       "    </tr>\n",
       "    <tr>\n",
       "      <th>Language</th>\n",
       "      <td>3</td>\n",
       "    </tr>\n",
       "    <tr>\n",
       "      <th>Metabolic</th>\n",
       "      <td>21</td>\n",
       "    </tr>\n",
       "    <tr>\n",
       "      <th>Protein_interactions</th>\n",
       "      <td>4</td>\n",
       "    </tr>\n",
       "    <tr>\n",
       "      <th>Software</th>\n",
       "      <td>1</td>\n",
       "    </tr>\n",
       "  </tbody>\n",
       "</table>\n",
       "</div>"
      ],
      "text/plain": [
       "                       0\n",
       "Communication          2\n",
       "Food_web               4\n",
       "Language               3\n",
       "Metabolic             21\n",
       "Protein_interactions   4\n",
       "Software               1"
      ]
     },
     "execution_count": 51,
     "metadata": {},
     "output_type": "execute_result"
    }
   ],
   "source": [
    "pd.DataFrame(index=subdoms, data=subcounts)"
   ]
  },
  {
   "cell_type": "code",
   "execution_count": null,
   "metadata": {
    "collapsed": true
   },
   "outputs": [],
   "source": []
  }
 ],
 "metadata": {
  "kernelspec": {
   "display_name": "Python 3",
   "language": "python",
   "name": "python3"
  },
  "language_info": {
   "codemirror_mode": {
    "name": "ipython",
    "version": 2
   },
   "file_extension": ".py",
   "mimetype": "text/x-python",
   "name": "python",
   "nbconvert_exporter": "python",
   "pygments_lexer": "ipython2",
   "version": "2.7.11"
  }
 },
 "nbformat": 4,
 "nbformat_minor": 2
}
