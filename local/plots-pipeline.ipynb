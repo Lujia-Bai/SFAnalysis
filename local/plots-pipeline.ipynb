{
 "cells": [
  {
   "cell_type": "code",
   "execution_count": 5,
   "metadata": {
    "collapsed": true
   },
   "outputs": [],
   "source": [
    "import numpy as np\n",
    "import pandas as pd"
   ]
  },
  {
   "cell_type": "code",
   "execution_count": 6,
   "metadata": {
    "collapsed": false
   },
   "outputs": [],
   "source": [
    "# import data\n",
    "df = pd.read_pickle('analysis.p')\n",
    "# NOTE THAT 'IN' MEAN IN TO THE ALT DISTRIBUTION, WHCIH IS NOT WHAT MATHEMATICA DOES"
   ]
  },
  {
   "cell_type": "code",
   "execution_count": 9,
   "metadata": {
    "collapsed": false
   },
   "outputs": [],
   "source": [
    "def getcount(decision, direction):\n",
    "    directiondir = {'in':'-1', 'out':'1', 'unk':'0', 'fail':'2'}\n",
    "    query = '%s == %s' %(decision, directiondir[direction])\n",
    "    num = len(np.asarray(df.query(query)[decision], dtype=int))\n",
    "    return num"
   ]
  },
  {
   "cell_type": "code",
   "execution_count": 5,
   "metadata": {
    "collapsed": false
   },
   "outputs": [
    {
     "name": "stdout",
     "output_type": "stream",
     "text": [
      "[3, 4, 5, 40]\n",
      "[2, 101, 76, 0]\n",
      "[181, 72, 107, 148]\n"
     ]
    }
   ],
   "source": [
    "# plot some stuff\n",
    "expin = getcount('dexp', 'in')\n",
    "expout = getcount('dexp', 'out')\n",
    "expunk = getcount('dexp', 'unk')\n",
    "lnin = getcount('dln', 'in')\n",
    "lnout = getcount('dln', 'out')\n",
    "lnunk = getcount('dln', 'unk')\n",
    "strexpin = getcount('dstrexp', 'in')\n",
    "strexpout = getcount('dstrexp', 'out')\n",
    "strexpunk = getcount('dstrexp', 'unk')\n",
    "plwcin = getcount('dplwc', 'in')\n",
    "plwcout = getcount('dplwc', 'out')\n",
    "plwcunk = getcount('dplwc', 'unk')\n",
    "# order = \"LN\", \"Exp\", \"Str Exp\", \"PLwC\"\n",
    "incounts = [lnin, expin, strexpin, plwcin]\n",
    "outcounts = [lnout, expout, strexpout, plwcout]\n",
    "unkcounts = [lnunk, expunk, strexpunk, plwcunk]\n",
    "print incounts\n",
    "print outcounts\n",
    "print unkcounts"
   ]
  },
  {
   "cell_type": "code",
   "execution_count": 8,
   "metadata": {
    "collapsed": false
   },
   "outputs": [
    {
     "data": {
      "text/html": [
       "<div>\n",
       "<table border=\"1\" class=\"dataframe\">\n",
       "  <thead>\n",
       "    <tr style=\"text-align: right;\">\n",
       "      <th></th>\n",
       "      <th>Domain</th>\n",
       "      <th>Subdomain</th>\n",
       "      <th>num_edges</th>\n",
       "      <th>Graph_order</th>\n",
       "      <th>Weighted</th>\n",
       "      <th>Directed</th>\n",
       "      <th>Bipartite</th>\n",
       "      <th>Multigraph</th>\n",
       "      <th>Multiplex</th>\n",
       "      <th>Component</th>\n",
       "      <th>...</th>\n",
       "      <th>n</th>\n",
       "      <th>alpha</th>\n",
       "      <th>xmin</th>\n",
       "      <th>ntail</th>\n",
       "      <th>Lpl</th>\n",
       "      <th>ppl</th>\n",
       "      <th>dexp</th>\n",
       "      <th>dln</th>\n",
       "      <th>dstrexp</th>\n",
       "      <th>dplwc</th>\n",
       "    </tr>\n",
       "  </thead>\n",
       "  <tbody>\n",
       "    <tr>\n",
       "      <th>Small_plant-pollinator_web_Small_plant-pollinator_web_Biological_Food_web_n2.gml_bipartitefull_weightedsimplifieddistribution.txt</th>\n",
       "      <td>Biological</td>\n",
       "      <td>Food_web</td>\n",
       "      <td>141</td>\n",
       "      <td>2</td>\n",
       "      <td>simplified</td>\n",
       "      <td>0</td>\n",
       "      <td>full</td>\n",
       "      <td>0</td>\n",
       "      <td>0</td>\n",
       "      <td>connected</td>\n",
       "      <td>...</td>\n",
       "      <td>47</td>\n",
       "      <td>2.46</td>\n",
       "      <td>4</td>\n",
       "      <td>32</td>\n",
       "      <td>-82.4076</td>\n",
       "      <td>0.121</td>\n",
       "      <td></td>\n",
       "      <td></td>\n",
       "      <td></td>\n",
       "      <td></td>\n",
       "    </tr>\n",
       "    <tr>\n",
       "      <th>Freshwater_stream_webs_SuttonSp_Biological_Food_web_n3.gml_directedindistribution.txt</th>\n",
       "      <td>Biological</td>\n",
       "      <td>Food_web</td>\n",
       "      <td>391</td>\n",
       "      <td>3</td>\n",
       "      <td>0</td>\n",
       "      <td>in</td>\n",
       "      <td>0</td>\n",
       "      <td>0</td>\n",
       "      <td>0</td>\n",
       "      <td>entire</td>\n",
       "      <td>...</td>\n",
       "      <td>79</td>\n",
       "      <td>1.53</td>\n",
       "      <td>4</td>\n",
       "      <td>22</td>\n",
       "      <td>-94.0899</td>\n",
       "      <td>0</td>\n",
       "      <td></td>\n",
       "      <td></td>\n",
       "      <td></td>\n",
       "      <td></td>\n",
       "    </tr>\n",
       "    <tr>\n",
       "      <th>Freshwater_stream_webs_SuttonSp_Biological_Food_web_n3.gml_directedoutdistribution.txt</th>\n",
       "      <td>Biological</td>\n",
       "      <td>Food_web</td>\n",
       "      <td>391</td>\n",
       "      <td>3</td>\n",
       "      <td>0</td>\n",
       "      <td>out</td>\n",
       "      <td>0</td>\n",
       "      <td>0</td>\n",
       "      <td>0</td>\n",
       "      <td>entire</td>\n",
       "      <td>...</td>\n",
       "      <td>79</td>\n",
       "      <td>5.5</td>\n",
       "      <td>13</td>\n",
       "      <td>13</td>\n",
       "      <td>-29.2702</td>\n",
       "      <td>0.937</td>\n",
       "      <td></td>\n",
       "      <td></td>\n",
       "      <td></td>\n",
       "      <td></td>\n",
       "    </tr>\n",
       "  </tbody>\n",
       "</table>\n",
       "<p>3 rows × 21 columns</p>\n",
       "</div>"
      ],
      "text/plain": [
       "                                                        Domain Subdomain  \\\n",
       "Small_plant-pollinator_web_Small_plant-pollinat...  Biological  Food_web   \n",
       "Freshwater_stream_webs_SuttonSp_Biological_Food...  Biological  Food_web   \n",
       "Freshwater_stream_webs_SuttonSp_Biological_Food...  Biological  Food_web   \n",
       "\n",
       "                                                   num_edges Graph_order  \\\n",
       "Small_plant-pollinator_web_Small_plant-pollinat...       141           2   \n",
       "Freshwater_stream_webs_SuttonSp_Biological_Food...       391           3   \n",
       "Freshwater_stream_webs_SuttonSp_Biological_Food...       391           3   \n",
       "\n",
       "                                                      Weighted Directed  \\\n",
       "Small_plant-pollinator_web_Small_plant-pollinat...  simplified        0   \n",
       "Freshwater_stream_webs_SuttonSp_Biological_Food...           0       in   \n",
       "Freshwater_stream_webs_SuttonSp_Biological_Food...           0      out   \n",
       "\n",
       "                                                   Bipartite Multigraph  \\\n",
       "Small_plant-pollinator_web_Small_plant-pollinat...      full          0   \n",
       "Freshwater_stream_webs_SuttonSp_Biological_Food...         0          0   \n",
       "Freshwater_stream_webs_SuttonSp_Biological_Food...         0          0   \n",
       "\n",
       "                                                   Multiplex  Component  ...   \\\n",
       "Small_plant-pollinator_web_Small_plant-pollinat...         0  connected  ...    \n",
       "Freshwater_stream_webs_SuttonSp_Biological_Food...         0     entire  ...    \n",
       "Freshwater_stream_webs_SuttonSp_Biological_Food...         0     entire  ...    \n",
       "\n",
       "                                                     n alpha xmin ntail  \\\n",
       "Small_plant-pollinator_web_Small_plant-pollinat...  47  2.46    4    32   \n",
       "Freshwater_stream_webs_SuttonSp_Biological_Food...  79  1.53    4    22   \n",
       "Freshwater_stream_webs_SuttonSp_Biological_Food...  79   5.5   13    13   \n",
       "\n",
       "                                                        Lpl    ppl dexp dln  \\\n",
       "Small_plant-pollinator_web_Small_plant-pollinat... -82.4076  0.121            \n",
       "Freshwater_stream_webs_SuttonSp_Biological_Food... -94.0899      0            \n",
       "Freshwater_stream_webs_SuttonSp_Biological_Food... -29.2702  0.937            \n",
       "\n",
       "                                                   dstrexp dplwc  \n",
       "Small_plant-pollinator_web_Small_plant-pollinat...                \n",
       "Freshwater_stream_webs_SuttonSp_Biological_Food...                \n",
       "Freshwater_stream_webs_SuttonSp_Biological_Food...                \n",
       "\n",
       "[3 rows x 21 columns]"
      ]
     },
     "execution_count": 8,
     "metadata": {},
     "output_type": "execute_result"
    }
   ],
   "source": [
    "df.iloc[0:3]"
   ]
  },
  {
   "cell_type": "code",
   "execution_count": null,
   "metadata": {
    "collapsed": true
   },
   "outputs": [],
   "source": []
  }
 ],
 "metadata": {
  "kernelspec": {
   "display_name": "Python 2",
   "language": "python",
   "name": "python2"
  },
  "language_info": {
   "codemirror_mode": {
    "name": "ipython",
    "version": 2
   },
   "file_extension": ".py",
   "mimetype": "text/x-python",
   "name": "python",
   "nbconvert_exporter": "python",
   "pygments_lexer": "ipython2",
   "version": "2.7.11"
  }
 },
 "nbformat": 4,
 "nbformat_minor": 2
}
