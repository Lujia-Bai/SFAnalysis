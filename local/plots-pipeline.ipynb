{
 "cells": [
  {
   "cell_type": "code",
   "execution_count": 1,
   "metadata": {
    "collapsed": false
   },
   "outputs": [],
   "source": [
    "import numpy as np\n",
    "import pandas as pd"
   ]
  },
  {
   "cell_type": "code",
   "execution_count": 102,
   "metadata": {
    "collapsed": false
   },
   "outputs": [],
   "source": [
    "# import data\n",
    "df = pd.read_pickle('/Users/annabroido/Dropbox/Research/LRTAnalysis/LRTAnalysis/analysis/analysis.p')\n",
    "subdf = pd.read_pickle('/Users/annabroido/Dropbox/Research/LRTAnalysis/LRTAnalysis/analysis/subanalysis.p')\n",
    "# NOTE THAT 'IN' MEAN IN TO THE ALT DISTRIBUTION, WHCIH IS NOT WHAT MATHEMATICA DOES"
   ]
  },
  {
   "cell_type": "code",
   "execution_count": 3,
   "metadata": {
    "collapsed": false
   },
   "outputs": [],
   "source": [
    "def getcount(decision, direction):\n",
    "    directiondir = {'in':'-1', 'out':'1', 'unk':'0', 'fail':'2'}\n",
    "    query = '%s == %s' %(decision, directiondir[direction])\n",
    "    num = len(np.asarray(df.query(query)[decision], dtype=int))\n",
    "    return num"
   ]
  },
  {
   "cell_type": "code",
   "execution_count": 4,
   "metadata": {
    "collapsed": false
   },
   "outputs": [
    {
     "name": "stdout",
     "output_type": "stream",
     "text": [
      "[415, 317, 388, 489]\n",
      "[136, 1069, 852, 0]\n",
      "[1239, 301, 500, 1333]\n"
     ]
    }
   ],
   "source": [
    "# plot some stuff\n",
    "expin = getcount('dexp', 'in')\n",
    "expout = getcount('dexp', 'out')\n",
    "expunk = getcount('dexp', 'unk')\n",
    "lnin = getcount('dln', 'in')\n",
    "lnout = getcount('dln', 'out')\n",
    "lnunk = getcount('dln', 'unk')\n",
    "strexpin = getcount('dstrexp', 'in')\n",
    "strexpout = getcount('dstrexp', 'out')\n",
    "strexpunk = getcount('dstrexp', 'unk')\n",
    "plwcin = getcount('dplwc', 'in')\n",
    "plwcout = getcount('dplwc', 'out')\n",
    "plwcunk = getcount('dplwc', 'unk')\n",
    "# order = \"LN\", \"Exp\", \"Str Exp\", \"PLwC\"\n",
    "incounts = [lnin, expin, strexpin, plwcin]\n",
    "outcounts = [lnout, expout, strexpout, plwcout]\n",
    "unkcounts = [lnunk, expunk, strexpunk, plwcunk]\n",
    "print incounts\n",
    "print outcounts\n",
    "print unkcounts"
   ]
  },
  {
   "cell_type": "code",
   "execution_count": 52,
   "metadata": {
    "collapsed": false
   },
   "outputs": [],
   "source": [
    "doms = np.unique(df.Domain)\n",
    "# number of graphs and mean alpha value in each domain\n",
    "counts = np.zeros_like(doms)\n",
    "means = np.zeros_like(doms)\n",
    "counts_plaus = np.zeros_like(doms)\n",
    "means_plaus = np.zeros_like(doms)\n",
    "counts_plaustail = np.zeros_like(doms)\n",
    "means_plaustail = np.zeros_like(doms)\n",
    "for i,dom in enumerate(doms):\n",
    "    query = \"Domain == '%s'\" %dom\n",
    "    subdf = df.query(query)\n",
    "    counts[i] = len(subdf)\n",
    "    means[i] = format(np.mean(subdf.alpha), '.2f')\n",
    "    subdf_plaus = subdf.query(\"ppl>0.1\")\n",
    "    counts_plaus[i] = len(subdf_plaus)\n",
    "    means_plaus[i] = format(np.mean(subdf_plaus.alpha), '.2f')\n",
    "    subdf_plaustail = subdf_plaus.query(\"ntail>=50\")\n",
    "    counts_plaustail[i] = len(subdf_plaustail)\n",
    "    means_plaustail[i] = format(np.mean(subdf_plaustail.alpha), '.2f')\n"
   ]
  },
  {
   "cell_type": "code",
   "execution_count": 72,
   "metadata": {
    "collapsed": false
   },
   "outputs": [
    {
     "name": "stdout",
     "output_type": "stream",
     "text": [
      "['Biological' 'Economic' 'Informational' 'Social' 'Technological'\n",
      " 'Transportation']\n",
      "[53 0 6 106 799 1]\n",
      "['2.69' 'nan' '2.38' '4.74' '2.23' '4.82']\n"
     ]
    }
   ],
   "source": [
    "print doms\n",
    "print counts_plaustail\n",
    "print means_plaustail"
   ]
  },
  {
   "cell_type": "code",
   "execution_count": 114,
   "metadata": {
    "collapsed": false
   },
   "outputs": [],
   "source": [
    "def test_strong(rows):\n",
    "    SA = False # strong alone\n",
    "    S1 = False # strong 1\n",
    "    S2 = False # strong 2\n",
    "    n = len(rows)\n",
    "    strong = 0\n",
    "    strong_alone = 0\n",
    "    for ind, row in rows.iterrows():\n",
    "        if row.ppl>0.1 and row.ntail >= 50 and row.alpha < 3 and row.alpha > 2:\n",
    "            strong_alone += 1\n",
    "            if row.dexp >-1 and row.dln>-1  and row.dstrexp >-1  and row.dplwc >-1:\n",
    "                strong += 1\n",
    "    if strong_alone >= n/2:\n",
    "        SA = True\n",
    "    if strong >= n/2:\n",
    "        S2 = True\n",
    "    if strong >= 9*n/10:\n",
    "        S1 = True\n",
    "    return (S1, S2, SA)\n",
    "            \n",
    "def test_weak(rows):\n",
    "    W = False \n",
    "    West = False \n",
    "    n = len(rows)\n",
    "    weak = 0\n",
    "    weakest = 0\n",
    "    for ind, row in rows.iterrows():\n",
    "        if row.ppl>0.1:\n",
    "            weakest += 1\n",
    "            if row.ntail>=50:\n",
    "                weak += 1\n",
    "    if weak >= n/2:\n",
    "        W = True\n",
    "    if weakest >= n/2:\n",
    "        West = True\n",
    "    return (W, West)\n",
    "            \n",
    "          "
   ]
  },
  {
   "cell_type": "code",
   "execution_count": 138,
   "metadata": {
    "collapsed": false
   },
   "outputs": [],
   "source": [
    "# test diff hypotheses\n",
    "unique_datasets = np.unique(df.fp_gml)\n",
    "hyps = pd.DataFrame(columns = ['Strong1', \"Strong2\", \"Strong_alone\", \"Weak\", \"Weakest\", \"Domain\", \"Subdomain\", \"mean_alpha\"], index=unique_datasets )\n",
    "for i, dataset in enumerate(unique_datasets):\n",
    "    query = \"fp_gml == '%s'\" %dataset\n",
    "    rows = df.query(query)\n",
    "    [S1, S2, SA] = test_strong(rows)\n",
    "    hyps.loc[dataset]['Strong1'] = S1\n",
    "    hyps.loc[dataset]['Strong2'] = S2\n",
    "    hyps.loc[dataset]['Strong_alone'] = SA\n",
    "    [weak,weakest] = test_weak(rows)\n",
    "    hyps.loc[dataset]['Weak'] = weak\n",
    "    hyps.loc[dataset]['Weakest'] = weakest\n",
    "    hyps.loc[dataset]['Domain'] = rows.Domain[0]\n",
    "    hyps.loc[dataset]['Subdomain'] = rows.Subdomain[0]"
   ]
  },
  {
   "cell_type": "code",
   "execution_count": 140,
   "metadata": {
    "collapsed": false
   },
   "outputs": [
    {
     "data": {
      "text/html": [
       "<div>\n",
       "<table border=\"1\" class=\"dataframe\">\n",
       "  <thead>\n",
       "    <tr style=\"text-align: right;\">\n",
       "      <th></th>\n",
       "      <th>Domain</th>\n",
       "      <th>Subdomain</th>\n",
       "      <th>num_edges</th>\n",
       "      <th>Graph_order</th>\n",
       "      <th>Weighted</th>\n",
       "      <th>Directed</th>\n",
       "      <th>Bipartite</th>\n",
       "      <th>Multigraph</th>\n",
       "      <th>Multiplex</th>\n",
       "      <th>Component</th>\n",
       "      <th>...</th>\n",
       "      <th>n</th>\n",
       "      <th>alpha</th>\n",
       "      <th>xmin</th>\n",
       "      <th>ntail</th>\n",
       "      <th>Lpl</th>\n",
       "      <th>ppl</th>\n",
       "      <th>dexp</th>\n",
       "      <th>dln</th>\n",
       "      <th>dstrexp</th>\n",
       "      <th>dplwc</th>\n",
       "    </tr>\n",
       "  </thead>\n",
       "  <tbody>\n",
       "    <tr>\n",
       "      <th>Cat_cerebral_hemisphere_cortex_and_thalamus_Biological_Connectome_n2.gml_weighted1_directedindistribution.txt</th>\n",
       "      <td>Biological</td>\n",
       "      <td>Connectome</td>\n",
       "      <td>244</td>\n",
       "      <td>2</td>\n",
       "      <td>w1</td>\n",
       "      <td>in</td>\n",
       "      <td>0</td>\n",
       "      <td>0</td>\n",
       "      <td>0</td>\n",
       "      <td>entire</td>\n",
       "      <td>...</td>\n",
       "      <td>76</td>\n",
       "      <td>6.5</td>\n",
       "      <td>6</td>\n",
       "      <td>13</td>\n",
       "      <td>-14.4819</td>\n",
       "      <td>0.478</td>\n",
       "      <td>-1</td>\n",
       "      <td>0</td>\n",
       "      <td>-1</td>\n",
       "      <td>0</td>\n",
       "    </tr>\n",
       "    <tr>\n",
       "      <th>Cat_cerebral_hemisphere_cortex_and_thalamus_Biological_Connectome_n2.gml_weighted1_directedoutdistribution.txt</th>\n",
       "      <td>Biological</td>\n",
       "      <td>Connectome</td>\n",
       "      <td>244</td>\n",
       "      <td>2</td>\n",
       "      <td>w1</td>\n",
       "      <td>out</td>\n",
       "      <td>0</td>\n",
       "      <td>0</td>\n",
       "      <td>0</td>\n",
       "      <td>entire</td>\n",
       "      <td>...</td>\n",
       "      <td>76</td>\n",
       "      <td>5.35</td>\n",
       "      <td>5</td>\n",
       "      <td>20</td>\n",
       "      <td>-26.3621</td>\n",
       "      <td>0.837</td>\n",
       "      <td>0</td>\n",
       "      <td>0</td>\n",
       "      <td>0</td>\n",
       "      <td>0</td>\n",
       "    </tr>\n",
       "    <tr>\n",
       "      <th>Cat_cerebral_hemisphere_cortex_and_thalamus_Biological_Connectome_n2.gml_weighted1_directedtotaldistribution.txt</th>\n",
       "      <td>Biological</td>\n",
       "      <td>Connectome</td>\n",
       "      <td>244</td>\n",
       "      <td>2</td>\n",
       "      <td>w1</td>\n",
       "      <td>total</td>\n",
       "      <td>0</td>\n",
       "      <td>0</td>\n",
       "      <td>0</td>\n",
       "      <td>entire</td>\n",
       "      <td>...</td>\n",
       "      <td>76</td>\n",
       "      <td>1.99</td>\n",
       "      <td>3</td>\n",
       "      <td>59</td>\n",
       "      <td>-174.264</td>\n",
       "      <td>0</td>\n",
       "      <td>-1</td>\n",
       "      <td>-1</td>\n",
       "      <td>-1</td>\n",
       "      <td>-1</td>\n",
       "    </tr>\n",
       "  </tbody>\n",
       "</table>\n",
       "<p>3 rows × 21 columns</p>\n",
       "</div>"
      ],
      "text/plain": [
       "                                                        Domain   Subdomain  \\\n",
       "Cat_cerebral_hemisphere_cortex_and_thalamus_Bio...  Biological  Connectome   \n",
       "Cat_cerebral_hemisphere_cortex_and_thalamus_Bio...  Biological  Connectome   \n",
       "Cat_cerebral_hemisphere_cortex_and_thalamus_Bio...  Biological  Connectome   \n",
       "\n",
       "                                                   num_edges Graph_order  \\\n",
       "Cat_cerebral_hemisphere_cortex_and_thalamus_Bio...       244           2   \n",
       "Cat_cerebral_hemisphere_cortex_and_thalamus_Bio...       244           2   \n",
       "Cat_cerebral_hemisphere_cortex_and_thalamus_Bio...       244           2   \n",
       "\n",
       "                                                   Weighted Directed  \\\n",
       "Cat_cerebral_hemisphere_cortex_and_thalamus_Bio...       w1       in   \n",
       "Cat_cerebral_hemisphere_cortex_and_thalamus_Bio...       w1      out   \n",
       "Cat_cerebral_hemisphere_cortex_and_thalamus_Bio...       w1    total   \n",
       "\n",
       "                                                   Bipartite Multigraph  \\\n",
       "Cat_cerebral_hemisphere_cortex_and_thalamus_Bio...         0          0   \n",
       "Cat_cerebral_hemisphere_cortex_and_thalamus_Bio...         0          0   \n",
       "Cat_cerebral_hemisphere_cortex_and_thalamus_Bio...         0          0   \n",
       "\n",
       "                                                   Multiplex Component  ...   \\\n",
       "Cat_cerebral_hemisphere_cortex_and_thalamus_Bio...         0    entire  ...    \n",
       "Cat_cerebral_hemisphere_cortex_and_thalamus_Bio...         0    entire  ...    \n",
       "Cat_cerebral_hemisphere_cortex_and_thalamus_Bio...         0    entire  ...    \n",
       "\n",
       "                                                     n alpha xmin ntail  \\\n",
       "Cat_cerebral_hemisphere_cortex_and_thalamus_Bio...  76   6.5    6    13   \n",
       "Cat_cerebral_hemisphere_cortex_and_thalamus_Bio...  76  5.35    5    20   \n",
       "Cat_cerebral_hemisphere_cortex_and_thalamus_Bio...  76  1.99    3    59   \n",
       "\n",
       "                                                        Lpl    ppl dexp dln  \\\n",
       "Cat_cerebral_hemisphere_cortex_and_thalamus_Bio... -14.4819  0.478   -1   0   \n",
       "Cat_cerebral_hemisphere_cortex_and_thalamus_Bio... -26.3621  0.837    0   0   \n",
       "Cat_cerebral_hemisphere_cortex_and_thalamus_Bio... -174.264      0   -1  -1   \n",
       "\n",
       "                                                   dstrexp dplwc  \n",
       "Cat_cerebral_hemisphere_cortex_and_thalamus_Bio...      -1     0  \n",
       "Cat_cerebral_hemisphere_cortex_and_thalamus_Bio...       0     0  \n",
       "Cat_cerebral_hemisphere_cortex_and_thalamus_Bio...      -1    -1  \n",
       "\n",
       "[3 rows x 21 columns]"
      ]
     },
     "execution_count": 140,
     "metadata": {},
     "output_type": "execute_result"
    }
   ],
   "source": [
    "dataset = unique_datasets[0]\n",
    "query = \"fp_gml == '%s'\" %dataset\n",
    "rows = df.query(query)\n",
    "[S1, S2, SA] = test_strong(rows)\n",
    "hyps.loc[dataset]['Strong1'] = S1\n",
    "hyps.loc[dataset]['Strong2'] = S2\n",
    "hyps.loc[dataset]['Strong_alone'] = SA\n",
    "[weak,weakest] = test_weak(rows)\n",
    "hyps.loc[dataset]['Weak'] = weak\n",
    "hyps.loc[dataset]['Weakest'] = weakest\n",
    "hyps.loc[dataset]['Domain'] = rows.Domain[0]\n",
    "hyps.loc[dataset]['Subdomain'] = rows.Subdomain[0]\n",
    "hyps.loc[dataset]['mean_alpha'] = np.mean(rows.alpha)\n",
    "hyps.loc[dataset]\n",
    "rows"
   ]
  },
  {
   "cell_type": "code",
   "execution_count": 133,
   "metadata": {
    "collapsed": false
   },
   "outputs": [
    {
     "name": "stdout",
     "output_type": "stream",
     "text": [
      "Strong1 = 0.229265967588\n",
      "Strong2 = 0.261201143947\n",
      "Strong_alone = 0.264061010486\n",
      "Weak = 0.28360343184\n",
      "Weakest = 0.322449952336\n",
      "Number of Datsets = 1823\n"
     ]
    }
   ],
   "source": [
    "n = float(len(df))\n",
    "Strong1 = np.sum(hyps.Strong1)\n",
    "Strong2 = np.sum(hyps.Strong2)\n",
    "Strong_alone = np.sum(hyps.Strong_alone)\n",
    "Weak = np.sum(hyps.Weak)\n",
    "Weakest = np.sum(hyps.Weakest)\n",
    "print \"Strong1 = %s\" %(Strong1/n)\n",
    "print \"Strong2 = %s\" %(Strong2/n)\n",
    "print \"Strong_alone = %s\" %(Strong_alone/n)\n",
    "print \"Weak = %s\" %(Weak/n)\n",
    "print \"Weakest = %s\" %(Weakest/n)\n",
    "print \"Number of Datsets = %s\" %len(unique_datasets)"
   ]
  },
  {
   "cell_type": "code",
   "execution_count": 137,
   "metadata": {
    "collapsed": false
   },
   "outputs": [
    {
     "data": {
      "text/plain": [
       "1.7400000000000009"
      ]
     },
     "execution_count": 137,
     "metadata": {},
     "output_type": "execute_result"
    }
   ],
   "source": [
    "query = \"fp_gml == '%s'\" %'/Volumes/Durodon/gmls/Transportation/Airport/n4/Openflights_airport_network_2010_Openflights_airport_network_2010_Transportation_Airport_n4.gml'\n",
    "rows = df.query(query)\n",
    "np.mean(rows.alpha)"
   ]
  },
  {
   "cell_type": "code",
   "execution_count": 160,
   "metadata": {
    "collapsed": false
   },
   "outputs": [
    {
     "data": {
      "text/plain": [
       "{'Biological',\n",
       " 'Economic',\n",
       " 'Informational',\n",
       " 'Social',\n",
       " 'Technological',\n",
       " 'Transportation'}"
      ]
     },
     "execution_count": 160,
     "metadata": {},
     "output_type": "execute_result"
    }
   ],
   "source": [
    "set(hyps.Domain)"
   ]
  },
  {
   "cell_type": "code",
   "execution_count": null,
   "metadata": {
    "collapsed": false
   },
   "outputs": [],
   "source": [
    "import matplotlib.pyplot as plt\n",
    "matplotlib.style.use('ggplot')\n",
    "ax = hyps[['Strong1','Strong2']].plot(kind='bar')\n",
    "plt.show()"
   ]
  },
  {
   "cell_type": "code",
   "execution_count": null,
   "metadata": {
    "collapsed": true
   },
   "outputs": [],
   "source": []
  }
 ],
 "metadata": {
  "kernelspec": {
   "display_name": "Python 2",
   "language": "python",
   "name": "python2"
  },
  "language_info": {
   "codemirror_mode": {
    "name": "ipython",
    "version": 2
   },
   "file_extension": ".py",
   "mimetype": "text/x-python",
   "name": "python",
   "nbconvert_exporter": "python",
   "pygments_lexer": "ipython2",
   "version": "2.7.11"
  }
 },
 "nbformat": 4,
 "nbformat_minor": 2
}
