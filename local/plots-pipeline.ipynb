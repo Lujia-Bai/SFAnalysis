{
 "cells": [
  {
   "cell_type": "code",
   "execution_count": 14,
   "metadata": {
    "collapsed": false
   },
   "outputs": [],
   "source": [
    "import numpy as np\n",
    "import pandas as pd"
   ]
  },
  {
   "cell_type": "code",
   "execution_count": 15,
   "metadata": {
    "collapsed": false
   },
   "outputs": [],
   "source": [
    "# import data\n",
    "df = pd.read_pickle('/Users/annabroido/Dropbox/Research/LRTAnalysis/LRTAnalysis/analysis/analysis.p')\n",
    "df = df.query(\"Domain != 'Economic'\")\n",
    "df = df.query(\"alpha != ''\")\n",
    "# NOTE THAT 'IN' MEAN IN TO THE ALT DISTRIBUTION, WHCIH IS NOT WHAT MATHEMATICA DOES"
   ]
  },
  {
   "cell_type": "code",
   "execution_count": 3,
   "metadata": {
    "collapsed": false
   },
   "outputs": [],
   "source": [
    "def getcount(decision, direction, df=df):\n",
    "    directiondir = {'in':'-1', 'out':'1', 'unk':'0', 'fail':'2'}\n",
    "    query = '%s == %s' %(decision, directiondir[direction])\n",
    "    num = len(np.asarray(df.query(query)[decision], dtype=int))\n",
    "    return num"
   ]
  },
  {
   "cell_type": "code",
   "execution_count": 4,
   "metadata": {
    "collapsed": false
   },
   "outputs": [
    {
     "name": "stdout",
     "output_type": "stream",
     "text": [
      "[1066, 1396, 1291, 1702]\n",
      "[2336, 479, 2020, 0]\n",
      "[762, 2511, 1014, 2759]\n",
      "[303, 81, 142]\n"
     ]
    }
   ],
   "source": [
    "# plot some stuff\n",
    "expin = getcount('dexp', 'in')\n",
    "expout = getcount('dexp', 'out')\n",
    "expunk = getcount('dexp', 'unk')\n",
    "expfail = getcount('dexp', 'fail')\n",
    "lnin = getcount('dln', 'in')\n",
    "lnout = getcount('dln', 'out')\n",
    "lnunk = getcount('dln', 'unk')\n",
    "lnfail = getcount('dln', 'fail')\n",
    "strexpin = getcount('dstrexp', 'in')\n",
    "strexpout = getcount('dstrexp', 'out')\n",
    "strexpunk = getcount('dstrexp', 'unk')\n",
    "strexpfail = getcount('dstrexp', 'fail')\n",
    "plwcin = getcount('dplwc', 'in')\n",
    "plwcout = getcount('dplwc', 'out')\n",
    "plwcunk = getcount('dplwc', 'unk')\n",
    "# order = \"LN\", \"Exp\", \"Str Exp\", \"PLwC\"\n",
    "incounts = [expin, lnin, strexpin, plwcin]\n",
    "outcounts = [expout, lnout, strexpout, plwcout]\n",
    "unkcounts = [expunk, lnunk, strexpunk, plwcunk]\n",
    "print incounts\n",
    "print outcounts\n",
    "print unkcounts\n",
    "print [expfail, lnfail, strexpfail]"
   ]
  },
  {
   "cell_type": "code",
   "execution_count": 5,
   "metadata": {
    "collapsed": false
   },
   "outputs": [],
   "source": [
    "unique_datasets = np.unique(df.fp_gml)\n",
    "decisions = ['dexp','dln', 'dstrexp', 'dplwc']\n",
    "allcounts = np.zeros((3,4))\n",
    "# each column of counts (stack in, on, and unk) adds up to len(rows) unless some fail\n",
    "for i, dataset in enumerate(unique_datasets):\n",
    "    query = \"fp_gml == '%s'\" %dataset\n",
    "    rows = df.query(query)\n",
    "    counts = np.zeros((3,4)) # rows are in, out, and unk \n",
    "    for i, decision in enumerate(decisions):\n",
    "        counts[0,i] = getcount(decision, 'in', rows)\n",
    "        counts[1,i] = getcount(decision, 'out', rows)\n",
    "        counts[2,i] = getcount(decision, 'unk', rows)\n",
    "        counts[2,i]+= getcount(decision,'fail',rows)\n",
    "    counts=counts/len(rows) # normalize each dataset\n",
    "    allcounts += counts"
   ]
  },
  {
   "cell_type": "code",
   "execution_count": 6,
   "metadata": {
    "collapsed": false
   },
   "outputs": [
    {
     "data": {
      "text/plain": [
       "array([[ 36.48695316,  45.02692054,  42.2083584 ,  51.28070142],\n",
       "       [ 36.5480601 ,  12.01204834,  33.32775653,   0.        ],\n",
       "       [ 26.92838339,  42.92442777,  24.42728172,  48.68269523]])"
      ]
     },
     "execution_count": 6,
     "metadata": {},
     "output_type": "execute_result"
    }
   ],
   "source": [
    "100*allcounts/len(unique_datasets)"
   ]
  },
  {
   "cell_type": "code",
   "execution_count": 7,
   "metadata": {
    "collapsed": false
   },
   "outputs": [],
   "source": [
    "doms = np.unique(df.Domain)\n",
    "# number of graphs and mean alpha value in each domain\n",
    "counts = np.zeros_like(doms)\n",
    "means = np.zeros_like(doms)\n",
    "counts_plaus = np.zeros_like(doms)\n",
    "means_plaus = np.zeros_like(doms)\n",
    "counts_plaustail = np.zeros_like(doms)\n",
    "means_plaustail = np.zeros_like(doms)\n",
    "for i,dom in enumerate(doms):\n",
    "    query = \"Domain == '%s'\" %dom\n",
    "    subdf = df.query(query)\n",
    "    counts[i] = len(subdf)\n",
    "    means[i] = format(np.mean(subdf.alpha), '.2f')\n",
    "    subdf_plaus = subdf.query(\"ppl>0.1\")\n",
    "    counts_plaus[i] = len(subdf_plaus)\n",
    "    means_plaus[i] = format(np.mean(subdf_plaus.alpha), '.2f')\n",
    "    subdf_plaustail = subdf_plaus.query(\"ntail>=50\")\n",
    "    counts_plaustail[i] = len(subdf_plaustail)\n",
    "    means_plaustail[i] = format(np.mean(subdf_plaustail.alpha), '.2f')"
   ]
  },
  {
   "cell_type": "code",
   "execution_count": 8,
   "metadata": {
    "collapsed": false
   },
   "outputs": [
    {
     "name": "stdout",
     "output_type": "stream",
     "text": [
      "['Biological' 'Informational' 'Social' 'Technological' 'Transportation']\n",
      "[125 13 239 1316 1]\n",
      "['2.70' '2.69' '4.19' '2.19' '4.82']\n"
     ]
    }
   ],
   "source": [
    "print doms\n",
    "print counts_plaustail\n",
    "print means_plaustail"
   ]
  },
  {
   "cell_type": "code",
   "execution_count": 16,
   "metadata": {
    "collapsed": false
   },
   "outputs": [],
   "source": [
    "def test_strong(rows):\n",
    "    S1 = False # strongest\n",
    "    S2 = False # strong\n",
    "    SA = False\n",
    "    n = len(rows)\n",
    "    strong = 0\n",
    "    strong_alone = 0\n",
    "    for ind, row in rows.iterrows():\n",
    "        if row.ppl>0.1 and row.ntail >= 50 and row.alpha < 3 and row.alpha > 2:\n",
    "            strong_alone += 1\n",
    "            if row.dexp >-1 and row.dln>-1  and row.dstrexp >-1  and row.dplwc >-1:\n",
    "                strong += 1\n",
    "    if strong_alone >= 9.*n/10:\n",
    "        SA = True\n",
    "    if strong >= n/2.:\n",
    "        S2 = True\n",
    "    if SA == True and strong >= 95.*n/100:\n",
    "        S1 = True\n",
    "    return (S1, S2)\n",
    "            \n",
    "def test_weak(rows):\n",
    "    W = False \n",
    "    West = False \n",
    "    SW = False\n",
    "    n = len(rows)\n",
    "    weak = 0\n",
    "    weakest = 0\n",
    "    sweak = 0\n",
    "    for ind, row in rows.iterrows():\n",
    "        if row.ppl>0.1:\n",
    "            weakest += 1\n",
    "            if row.ntail>=50:\n",
    "                weak += 1\n",
    "        if row.dexp >-1 and row.dln>-1  and row.dstrexp >-1  and row.dplwc >-1:\n",
    "            sweak += 1\n",
    "    if weak >= n/2.:\n",
    "        W = True\n",
    "    if weakest >= n/2.:\n",
    "        West = True\n",
    "    if sweak >= n/2.:\n",
    "        SW = True\n",
    "    return (W, West, SW)\n",
    "          "
   ]
  },
  {
   "cell_type": "code",
   "execution_count": 20,
   "metadata": {
    "collapsed": false
   },
   "outputs": [],
   "source": [
    "# test diff hypotheses\n",
    "unique_datasets = np.unique(df.fp_gml)\n",
    "hyps = pd.DataFrame(columns = ['Strongest', \"Strong\", \"Weak\", \"Weakest\", \"Super_Weak\", \"Domain\", \"Subdomain\", \"median_alpha\", \"n\", \"median_ntail\"], index=unique_datasets )\n",
    "for i, dataset in enumerate(unique_datasets):\n",
    "    query = \"fp_gml == '%s'\" %dataset\n",
    "    rows = df.query(query)\n",
    "    [S1, S2] = test_strong(rows)\n",
    "    hyps.loc[dataset]['Strongest'] = S1\n",
    "    hyps.loc[dataset]['Strong'] = S2\n",
    "    [weak,weakest,superweak] = test_weak(rows)\n",
    "    hyps.loc[dataset]['Weak'] = weak\n",
    "    hyps.loc[dataset]['Weakest'] = weakest\n",
    "    hyps.loc[dataset]['Super_Weak'] = superweak\n",
    "    hyps.loc[dataset]['Domain'] = rows.Domain[0]\n",
    "    hyps.loc[dataset]['Subdomain'] = rows.Subdomain[0]\n",
    "    hyps.loc[dataset]['median_alpha'] = np.median(rows.alpha)\n",
    "    hyps.loc[dataset]['n'] = np.max(rows.n)\n",
    "    hyps.loc[dataset]['median_ntail'] = np.median(rows.ntail)\n",
    "    "
   ]
  },
  {
   "cell_type": "code",
   "execution_count": 21,
   "metadata": {
    "collapsed": false
   },
   "outputs": [
    {
     "name": "stdout",
     "output_type": "stream",
     "text": [
      "Strongest = 0.0377562028047\n",
      "Strong = 0.105717367853\n",
      "Weak = 0.24163969795\n",
      "Weakest = 0.333333333333\n",
      "Super Weak = 0.522114347357\n",
      "Number of Datsets = 927\n"
     ]
    }
   ],
   "source": [
    "n = float(len(hyps))\n",
    "Strongest = np.sum(hyps.Strongest)\n",
    "Strong = np.sum(hyps.Strong)\n",
    "Weak = np.sum(hyps.Weak)\n",
    "Weakest = np.sum(hyps.Weakest)\n",
    "Super_Weak = np.sum(hyps.Super_Weak)\n",
    "print \"Strongest = %s\" %(Strongest/n)\n",
    "print \"Strong = %s\" %(Strong/n)\n",
    "print \"Weak = %s\" %(Weak/n)\n",
    "print \"Weakest = %s\" %(Weakest/n)\n",
    "print \"Super Weak = %s\" %(Super_Weak/n)\n",
    "print \"Number of Datsets = %s\" %int(n)"
   ]
  },
  {
   "cell_type": "code",
   "execution_count": 12,
   "metadata": {
    "collapsed": false
   },
   "outputs": [],
   "source": [
    "hyps.to_pickle('/Users/annabroido/Dropbox/Research/LRTAnalysis/LRTAnalysis/analysis/hyps.p')\n",
    "hyps.to_csv('/Users/annabroido/Dropbox/Research/LRTAnalysis/LRTAnalysis/analysis/hyps.csv')"
   ]
  },
  {
   "cell_type": "code",
   "execution_count": 13,
   "metadata": {
    "collapsed": false
   },
   "outputs": [
    {
     "data": {
      "text/plain": [
       "927"
      ]
     },
     "execution_count": 13,
     "metadata": {},
     "output_type": "execute_result"
    }
   ],
   "source": [
    "len(hyps)"
   ]
  },
  {
   "cell_type": "code",
   "execution_count": 78,
   "metadata": {
    "collapsed": false
   },
   "outputs": [
    {
     "data": {
      "text/html": [
       "<div>\n",
       "<table border=\"1\" class=\"dataframe\">\n",
       "  <thead>\n",
       "    <tr style=\"text-align: right;\">\n",
       "      <th></th>\n",
       "      <th>Domain</th>\n",
       "      <th>Subdomain</th>\n",
       "      <th>num_edges</th>\n",
       "      <th>Graph_order</th>\n",
       "      <th>Weighted</th>\n",
       "      <th>Directed</th>\n",
       "      <th>Bipartite</th>\n",
       "      <th>Multigraph</th>\n",
       "      <th>Multiplex</th>\n",
       "      <th>Component</th>\n",
       "      <th>...</th>\n",
       "      <th>n</th>\n",
       "      <th>alpha</th>\n",
       "      <th>xmin</th>\n",
       "      <th>ntail</th>\n",
       "      <th>Lpl</th>\n",
       "      <th>ppl</th>\n",
       "      <th>dexp</th>\n",
       "      <th>dln</th>\n",
       "      <th>dstrexp</th>\n",
       "      <th>dplwc</th>\n",
       "    </tr>\n",
       "  </thead>\n",
       "  <tbody>\n",
       "    <tr>\n",
       "      <th>United_States_Road_Networks_PA_Transportation_Roads_n6.gml_multiplexroad_category_multigraphsimplifieddistribution.txt</th>\n",
       "      <td>Transportation</td>\n",
       "      <td>Roads</td>\n",
       "      <td>1078246</td>\n",
       "      <td>6</td>\n",
       "      <td>0</td>\n",
       "      <td>0</td>\n",
       "      <td>0</td>\n",
       "      <td>simplified</td>\n",
       "      <td>sub_road_category</td>\n",
       "      <td>entire</td>\n",
       "      <td>...</td>\n",
       "      <td></td>\n",
       "      <td>6.3</td>\n",
       "      <td>3</td>\n",
       "      <td>456034</td>\n",
       "      <td>-291964</td>\n",
       "      <td>0</td>\n",
       "      <td>-1</td>\n",
       "      <td>-1</td>\n",
       "      <td>-1</td>\n",
       "      <td>-1</td>\n",
       "    </tr>\n",
       "    <tr>\n",
       "      <th>United_States_Road_Networks_PA_Transportation_Roads_n6.gml_multiplexroad_category_multigraphsimplified_largestcompdistribution.txt</th>\n",
       "      <td>Transportation</td>\n",
       "      <td>Roads</td>\n",
       "      <td>1072638</td>\n",
       "      <td>6</td>\n",
       "      <td>0</td>\n",
       "      <td>0</td>\n",
       "      <td>0</td>\n",
       "      <td>simplified</td>\n",
       "      <td>sub_road_category</td>\n",
       "      <td>largest</td>\n",
       "      <td>...</td>\n",
       "      <td></td>\n",
       "      <td>6.3</td>\n",
       "      <td>3</td>\n",
       "      <td>455270</td>\n",
       "      <td>-291717</td>\n",
       "      <td>0</td>\n",
       "      <td>-1</td>\n",
       "      <td>-1</td>\n",
       "      <td>-1</td>\n",
       "      <td>-1</td>\n",
       "    </tr>\n",
       "    <tr>\n",
       "      <th>United_States_Road_Networks_PA_Transportation_Roads_n6.gml_multiplextravel_time_multigraphsimplifieddistribution.txt</th>\n",
       "      <td>Transportation</td>\n",
       "      <td>Roads</td>\n",
       "      <td>1078246</td>\n",
       "      <td>6</td>\n",
       "      <td>0</td>\n",
       "      <td>0</td>\n",
       "      <td>0</td>\n",
       "      <td>simplified</td>\n",
       "      <td>sub_travel_time</td>\n",
       "      <td>entire</td>\n",
       "      <td>...</td>\n",
       "      <td></td>\n",
       "      <td>6.3</td>\n",
       "      <td>3</td>\n",
       "      <td>456034</td>\n",
       "      <td>-291964</td>\n",
       "      <td>0</td>\n",
       "      <td>-1</td>\n",
       "      <td>-1</td>\n",
       "      <td>-1</td>\n",
       "      <td>-1</td>\n",
       "    </tr>\n",
       "    <tr>\n",
       "      <th>United_States_Road_Networks_PA_Transportation_Roads_n6.gml_multiplextravel_time_multigraphsimplified_largestcompdistribution.txt</th>\n",
       "      <td>Transportation</td>\n",
       "      <td>Roads</td>\n",
       "      <td>1072638</td>\n",
       "      <td>6</td>\n",
       "      <td>0</td>\n",
       "      <td>0</td>\n",
       "      <td>0</td>\n",
       "      <td>simplified</td>\n",
       "      <td>sub_travel_time</td>\n",
       "      <td>largest</td>\n",
       "      <td>...</td>\n",
       "      <td></td>\n",
       "      <td>6.3</td>\n",
       "      <td>3</td>\n",
       "      <td>455270</td>\n",
       "      <td>-291717</td>\n",
       "      <td>0</td>\n",
       "      <td>-1</td>\n",
       "      <td>-1</td>\n",
       "      <td>-1</td>\n",
       "      <td>-1</td>\n",
       "    </tr>\n",
       "    <tr>\n",
       "      <th>United_States_Road_Networks_PA_Transportation_Roads_n6.gml_multiplexspatial_distance_in_meters_multigraphsimplifieddistribution.txt</th>\n",
       "      <td>Transportation</td>\n",
       "      <td>Roads</td>\n",
       "      <td>1078246</td>\n",
       "      <td>6</td>\n",
       "      <td>0</td>\n",
       "      <td>0</td>\n",
       "      <td>0</td>\n",
       "      <td>simplified</td>\n",
       "      <td>sub_spatial_distance_in_meters</td>\n",
       "      <td>entire</td>\n",
       "      <td>...</td>\n",
       "      <td></td>\n",
       "      <td>6.3</td>\n",
       "      <td>3</td>\n",
       "      <td>456034</td>\n",
       "      <td>-291964</td>\n",
       "      <td>0</td>\n",
       "      <td>-1</td>\n",
       "      <td>-1</td>\n",
       "      <td>-1</td>\n",
       "      <td>-1</td>\n",
       "    </tr>\n",
       "    <tr>\n",
       "      <th>United_States_Road_Networks_PA_Transportation_Roads_n6.gml_multiplexspatial_distance_in_meters_multigraphsimplified_largestcompdistribution.txt</th>\n",
       "      <td>Transportation</td>\n",
       "      <td>Roads</td>\n",
       "      <td>1072638</td>\n",
       "      <td>6</td>\n",
       "      <td>0</td>\n",
       "      <td>0</td>\n",
       "      <td>0</td>\n",
       "      <td>simplified</td>\n",
       "      <td>sub_spatial_distance_in_meters</td>\n",
       "      <td>largest</td>\n",
       "      <td>...</td>\n",
       "      <td></td>\n",
       "      <td>6.3</td>\n",
       "      <td>3</td>\n",
       "      <td>455270</td>\n",
       "      <td>-291717</td>\n",
       "      <td>0</td>\n",
       "      <td>-1</td>\n",
       "      <td>-1</td>\n",
       "      <td>-1</td>\n",
       "      <td>-1</td>\n",
       "    </tr>\n",
       "  </tbody>\n",
       "</table>\n",
       "<p>6 rows × 21 columns</p>\n",
       "</div>"
      ],
      "text/plain": [
       "                                                            Domain Subdomain  \\\n",
       "United_States_Road_Networks_PA_Transportation_R...  Transportation     Roads   \n",
       "United_States_Road_Networks_PA_Transportation_R...  Transportation     Roads   \n",
       "United_States_Road_Networks_PA_Transportation_R...  Transportation     Roads   \n",
       "United_States_Road_Networks_PA_Transportation_R...  Transportation     Roads   \n",
       "United_States_Road_Networks_PA_Transportation_R...  Transportation     Roads   \n",
       "United_States_Road_Networks_PA_Transportation_R...  Transportation     Roads   \n",
       "\n",
       "                                                   num_edges Graph_order  \\\n",
       "United_States_Road_Networks_PA_Transportation_R...   1078246           6   \n",
       "United_States_Road_Networks_PA_Transportation_R...   1072638           6   \n",
       "United_States_Road_Networks_PA_Transportation_R...   1078246           6   \n",
       "United_States_Road_Networks_PA_Transportation_R...   1072638           6   \n",
       "United_States_Road_Networks_PA_Transportation_R...   1078246           6   \n",
       "United_States_Road_Networks_PA_Transportation_R...   1072638           6   \n",
       "\n",
       "                                                   Weighted Directed  \\\n",
       "United_States_Road_Networks_PA_Transportation_R...        0        0   \n",
       "United_States_Road_Networks_PA_Transportation_R...        0        0   \n",
       "United_States_Road_Networks_PA_Transportation_R...        0        0   \n",
       "United_States_Road_Networks_PA_Transportation_R...        0        0   \n",
       "United_States_Road_Networks_PA_Transportation_R...        0        0   \n",
       "United_States_Road_Networks_PA_Transportation_R...        0        0   \n",
       "\n",
       "                                                   Bipartite  Multigraph  \\\n",
       "United_States_Road_Networks_PA_Transportation_R...         0  simplified   \n",
       "United_States_Road_Networks_PA_Transportation_R...         0  simplified   \n",
       "United_States_Road_Networks_PA_Transportation_R...         0  simplified   \n",
       "United_States_Road_Networks_PA_Transportation_R...         0  simplified   \n",
       "United_States_Road_Networks_PA_Transportation_R...         0  simplified   \n",
       "United_States_Road_Networks_PA_Transportation_R...         0  simplified   \n",
       "\n",
       "                                                                         Multiplex  \\\n",
       "United_States_Road_Networks_PA_Transportation_R...               sub_road_category   \n",
       "United_States_Road_Networks_PA_Transportation_R...               sub_road_category   \n",
       "United_States_Road_Networks_PA_Transportation_R...                 sub_travel_time   \n",
       "United_States_Road_Networks_PA_Transportation_R...                 sub_travel_time   \n",
       "United_States_Road_Networks_PA_Transportation_R...  sub_spatial_distance_in_meters   \n",
       "United_States_Road_Networks_PA_Transportation_R...  sub_spatial_distance_in_meters   \n",
       "\n",
       "                                                   Component  ...  n alpha  \\\n",
       "United_States_Road_Networks_PA_Transportation_R...    entire  ...      6.3   \n",
       "United_States_Road_Networks_PA_Transportation_R...   largest  ...      6.3   \n",
       "United_States_Road_Networks_PA_Transportation_R...    entire  ...      6.3   \n",
       "United_States_Road_Networks_PA_Transportation_R...   largest  ...      6.3   \n",
       "United_States_Road_Networks_PA_Transportation_R...    entire  ...      6.3   \n",
       "United_States_Road_Networks_PA_Transportation_R...   largest  ...      6.3   \n",
       "\n",
       "                                                   xmin   ntail     Lpl ppl  \\\n",
       "United_States_Road_Networks_PA_Transportation_R...    3  456034 -291964   0   \n",
       "United_States_Road_Networks_PA_Transportation_R...    3  455270 -291717   0   \n",
       "United_States_Road_Networks_PA_Transportation_R...    3  456034 -291964   0   \n",
       "United_States_Road_Networks_PA_Transportation_R...    3  455270 -291717   0   \n",
       "United_States_Road_Networks_PA_Transportation_R...    3  456034 -291964   0   \n",
       "United_States_Road_Networks_PA_Transportation_R...    3  455270 -291717   0   \n",
       "\n",
       "                                                   dexp dln dstrexp dplwc  \n",
       "United_States_Road_Networks_PA_Transportation_R...   -1  -1      -1    -1  \n",
       "United_States_Road_Networks_PA_Transportation_R...   -1  -1      -1    -1  \n",
       "United_States_Road_Networks_PA_Transportation_R...   -1  -1      -1    -1  \n",
       "United_States_Road_Networks_PA_Transportation_R...   -1  -1      -1    -1  \n",
       "United_States_Road_Networks_PA_Transportation_R...   -1  -1      -1    -1  \n",
       "United_States_Road_Networks_PA_Transportation_R...   -1  -1      -1    -1  \n",
       "\n",
       "[6 rows x 21 columns]"
      ]
     },
     "execution_count": 78,
     "metadata": {},
     "output_type": "execute_result"
    }
   ],
   "source": [
    "df.query(\"fp_gml == '/Volumes/Durodon/gmls/Transportation/Roads/n6/United_States_Road_Networks_PA_Transportation_Roads_n6.gml'\")"
   ]
  },
  {
   "cell_type": "code",
   "execution_count": 12,
   "metadata": {
    "collapsed": false
   },
   "outputs": [
    {
     "name": "stdout",
     "output_type": "stream",
     "text": [
      "Strong1 = 0.0\n",
      "Strong2 = 0.0\n",
      "Strong_alone = 0.0\n",
      "Weak = 0.551724137931\n",
      "Weakest = 0.696551724138\n",
      "Number of Datsets = 145\n"
     ]
    }
   ],
   "source": [
    "subhyps = hyps.query(\"Domain=='Social'\")\n",
    "n = float(len(subhyps))\n",
    "Strong1 = np.sum(subhyps.Strong1)\n",
    "Strong2 = np.sum(subhyps.Strong2)\n",
    "Strong_alone = np.sum(subhyps.Strong_alone)\n",
    "Weak = np.sum(subhyps.Weak)\n",
    "Weakest = np.sum(subhyps.Weakest)\n",
    "print \"Strong1 = %s\" %(Strong1/n)\n",
    "print \"Strong2 = %s\" %(Strong2/n)\n",
    "print \"Strong_alone = %s\" %(Strong_alone/n)\n",
    "print \"Weak = %s\" %(Weak/n)\n",
    "print \"Weakest = %s\" %(Weakest/n)\n",
    "print \"Number of Datsets = %s\" %int(n)"
   ]
  },
  {
   "cell_type": "code",
   "execution_count": null,
   "metadata": {
    "collapsed": true
   },
   "outputs": [],
   "source": []
  }
 ],
 "metadata": {
  "kernelspec": {
   "display_name": "Python 2",
   "language": "python",
   "name": "python2"
  },
  "language_info": {
   "codemirror_mode": {
    "name": "ipython",
    "version": 2
   },
   "file_extension": ".py",
   "mimetype": "text/x-python",
   "name": "python",
   "nbconvert_exporter": "python",
   "pygments_lexer": "ipython2",
   "version": "2.7.11"
  }
 },
 "nbformat": 4,
 "nbformat_minor": 2
}
